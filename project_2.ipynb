{
  "nbformat": 4,
  "nbformat_minor": 0,
  "metadata": {
    "colab": {
      "provenance": [],
      "collapsed_sections": [
        "60cx0ccdENvd",
        "v8XUstEkwDT6",
        "2P7bF6kFBVfx",
        "7XTYqhaZBuBe",
        "GoMn8PStc8-d"
      ]
    },
    "kernelspec": {
      "name": "python3",
      "display_name": "Python 3"
    },
    "language_info": {
      "name": "python"
    }
  },
  "cells": [
    {
      "cell_type": "markdown",
      "source": [
        "# **CS3630 Project 2**: A Vacuum Cleaning Robot (Spring 2022)\n",
        "\n",
        "### Dev TAs: Vivek Mallampati, Zhen Jiang\n",
        "### February 7, 2022\n",
        "\n",
        "\n",
        "---\n",
        "\n",
        "\n",
        "\n",
        "# **Introduction**\n",
        "\n",
        "Welcome to your second project in CS3630 (Spring 2022)!\n",
        "\n",
        "In this project, we will be building a (simulated) vaccum sorting robot as illustrated in the [Textbook](http://www.roboticsbook.org/intro.html) for this course. \n",
        "\n",
        "\n",
        "---\n",
        "\n",
        "\n",
        "# **Project**\n",
        "\n",
        "\n",
        "> ***Please select \"Copy to Drive\" inorder to save the Google Colab to your drive.*** This will save your changes and you can access the assignemnt directly from your google account. \n",
        "\n",
        "\n",
        "There are two ways that you can test your implementation:\n",
        "\n",
        "1. **Running the project:** Running the project involves running the code we will be testing. \n",
        "There will be additional tests on Gradescope which are not present in\n",
        "your local unit tests.\n",
        "\n",
        "2. **Gradescope Autograder:**You may also submit your code as specified below. \n",
        "Gradescope will only reveal the results of the public tests. Your final grade for the coding portion of\n",
        "this assignment are based on both the public and hidden private tests. We do not recommend using\n",
        "Gradescope as your primary testing method during development because private test cases will **NOT**\n",
        "be available to you at any time.\n",
        "*IMPORTANT NOTE: Please use the variables provided for the results of each of the TODOs.*\n",
        "\n",
        "---\n",
        "---\n",
        "\n",
        "# SUBMISSION GUIDELINES\n",
        "\n",
        "**Download notebook as submission.py and submit on Gradescope.**\n",
        "\n",
        "Click \"File\" on the menu on the left side corner. Select \"Download\" and select \"download .py\" to download the notebook as a python file. Please save the file as **\"submission.py\".**\n",
        "\n",
        "---\n",
        "\n",
        "## **Due Date**\n",
        "**Project 2 is due on Friday, 02/18/2022 11:59PM Easter Time**, with late submission possible until\n",
        "Monday, 02/21/2022 11:59PM Eastern Time.\n",
        "\n",
        "### **Deliverables**\n",
        "Deliverables are submitted on Gradescope. Each student must individually submit assignments. Deliverables are the following files:\n",
        "\n",
        "*  submission.py: Download the file with the name \"submission.py\" and submit to Gradescope for “Project 2 - Code”.\n",
        "*  Project 2 - Report: Reports are administered through GradeScope assignments. The assignment is\n",
        "not timed, you will have until the deadline to finish the report. Fill out the corresponding regions\n",
        "with your answers.\n",
        "\n",
        "\n",
        "# **Grading**\n",
        "Project 2 is worth 100 points in total. Here is the breakdown of each section’s \n",
        "value.\n",
        "\n",
        "*   Code - 50pts\n",
        "*   Report - 50pts\n",
        "\n",
        "## **Collaboration Policy**\n",
        "All projects in this course this semester are individual projects, which means ***no collaboration is allowed***.\n",
        "However, you can discuss the projects and the reflection questions at a high level with your classmates or\n",
        "the TAs. You can also ask questions on Piazza or go to office hours for help. All the code and all the\n",
        "answers to the reflection questions must be your own."
      ],
      "metadata": {
        "id": "-YxG8OzugQNp"
      }
    },
    {
      "cell_type": "markdown",
      "source": [
        "## **Code Setup**\n",
        "\n",
        "We will be following the chapters in the book and try to create a vaccum robot which can do tasks over time."
      ],
      "metadata": {
        "id": "60cx0ccdENvd"
      }
    },
    {
      "cell_type": "markdown",
      "source": [
        "**RERUN THE SETUP CODE EVERYTIME YOU START**\n",
        "---\n",
        "DON'T CHANGE THE SETUP CODE! PLEASE START TO WORK FROM SECTION 3.1\n",
        "\n",
        "---\n",
        "\n"
      ],
      "metadata": {
        "id": "4rh3W4sSE6k7"
      }
    },
    {
      "cell_type": "code",
      "source": [
        "#Need to run this everytime the notebook gets disconnected\n",
        "%pip install -q -U gtbook"
      ],
      "metadata": {
        "id": "5TfY3Rm-EkJT"
      },
      "execution_count": null,
      "outputs": []
    },
    {
      "cell_type": "code",
      "source": [
        "import numpy as np\n",
        "import gtsam\n",
        "import pandas as pd\n",
        "import time\n",
        "import gtbook\n",
        "from gtbook.display import show\n",
        "from gtbook.discrete import Variables\n",
        "VARIABLES = Variables()\n",
        "def pretty(obj): \n",
        "    return gtbook.display.pretty(obj, VARIABLES)\n",
        "def show(obj, **kwargs): \n",
        "    return gtbook.display.show(obj, VARIABLES, **kwargs)\n",
        "\n",
        "import plotly.express as px\n",
        "try:\n",
        "    import google.colab\n",
        "except:\n",
        "    import plotly.io as pio\n",
        "    pio.renderers.default = \"png\"\n",
        "from enum import Enum"
      ],
      "metadata": {
        "id": "Ub8norHjMdn7"
      },
      "execution_count": null,
      "outputs": []
    },
    {
      "cell_type": "code",
      "source": [
        "# Constants. DON'T CHANGE THE VARIABLE NAMES AND VALUES\n",
        "ACTIONS = [\"L\",\"R\",\"U\",\"D\",]\n",
        "ROOMS = [\"Living Room\", \"Kitchen\", \"Office\", \"Hallway\", \"Dining Room\"]\n",
        "LIGHT_LEVELS = [\"dark\", \"medium\", \"light\"]"
      ],
      "metadata": {
        "id": "iYbcDgRqEsfk"
      },
      "execution_count": null,
      "outputs": []
    },
    {
      "cell_type": "markdown",
      "source": [
        "## Section 3.1 State Abstractions"
      ],
      "metadata": {
        "id": "o2ZF9fP8tY6P"
      }
    },
    {
      "cell_type": "markdown",
      "source": [
        "#### REPORT QUESTIONS\n",
        "###### 1) MCQs to identify Bayesian vs. Frequentist \n",
        "\n",
        "*   Finding probability of getting a one after rolling dice 1000 times \n",
        "*   Finding probability of getting A in CS 3630 next semester\n",
        "*   Finding the probability of Rafael Nadal winning the 21 grand slam titles\n",
        "\n",
        "##### 2) What will be the discrete distribution if the robot ALWAYS starts out in the Living Room?"
      ],
      "metadata": {
        "id": "v8XUstEkwDT6"
      }
    },
    {
      "cell_type": "markdown",
      "source": [
        "### *CODING TIME*\n",
        "In this part we will start by creating action series and state series which will hold the action variables and state variables. Possible actions and states are listed in the constants in the Setup.\n",
        "\n",
        "[Textbook Section 3.1](https://www.roboticsbook.org/S31_vacuum_state.html) is your best friend."
      ],
      "metadata": {
        "id": "OzkT5EX5WLrt"
      }
    },
    {
      "cell_type": "code",
      "source": [
        "# TODO 1\n",
        "def create_action_series(character, indices):\n",
        "  \"\"\"\n",
        "  Returns a discrete series of actions\n",
        "\n",
        "      Parameters:\n",
        "          character (str): a single character assigned to the action state variable\n",
        "          indices (list of ints): a list of integer indices \n",
        "\n",
        "      Returns:\n",
        "          A (dict): a dictionary with the keys being integer indices and the values\n",
        "                    being gtsam.DiscreteKeys\n",
        "  \"\"\"\n",
        "  A = None\n",
        "  ###############################################################################\n",
        "  #                             START OF YOUR CODE                              #\n",
        "  ###############################################################################\n",
        "  A = VARIABLES.discrete_series(character, indices, ACTIONS)\n",
        "  ###############################################################################\n",
        "  #                              END OF YOUR CODE                               #\n",
        "  ###############################################################################\n",
        "  return A\n",
        "\n"
      ],
      "metadata": {
        "id": "0fxDhRhiPJMJ"
      },
      "execution_count": null,
      "outputs": []
    },
    {
      "cell_type": "code",
      "source": [
        "# TODO 2 \n",
        "def create_state_series(character, indices):\n",
        "  \"\"\"\n",
        "  Returns a discrete series of rooms\n",
        "\n",
        "      Parameters:\n",
        "          character (str): a single character assigned to the room state variable\n",
        "          indices (list of ints): a list of integer indices \n",
        "\n",
        "      Returns:\n",
        "          X (dict): a dictionary with the keys being integer indices and the values\n",
        "                    being gtsam.DiscreteKeys\n",
        "  \"\"\"\n",
        "  X = None\n",
        "  ###############################################################################\n",
        "  #                             START OF YOUR CODE                              #\n",
        "  ############################################################################### \n",
        "  X = VARIABLES.discrete_series(character, indices, ROOMS)\n",
        "  ###############################################################################\n",
        "  #                              END OF YOUR CODE                               #\n",
        "  ###############################################################################\n",
        "  return X"
      ],
      "metadata": {
        "id": "lT7HRSW1RoBe"
      },
      "execution_count": null,
      "outputs": []
    },
    {
      "cell_type": "code",
      "source": [
        "A = create_action_series(\"A\", [1,2,3,4])\n",
        "print(\"Action series:\",A)\n",
        "\n",
        "X = create_state_series(\"X\", [1,2,3,4,5])\n",
        "print(\"State series:\", X)"
      ],
      "metadata": {
        "id": "mNoOS_e9XaYb",
        "colab": {
          "base_uri": "https://localhost:8080/"
        },
        "outputId": "6f735d52-5f81-4228-a4de-ba5fd3286c52"
      },
      "execution_count": null,
      "outputs": [
        {
          "output_type": "stream",
          "name": "stdout",
          "text": [
            "Action series: {1: (4683743612465315841, 4), 2: (4683743612465315842, 4), 3: (4683743612465315843, 4), 4: (4683743612465315844, 4)}\n",
            "State series: {1: (6341068275337658369, 5), 2: (6341068275337658370, 5), 3: (6341068275337658371, 5), 4: (6341068275337658372, 5), 5: (6341068275337658373, 5)}\n"
          ]
        }
      ]
    },
    {
      "cell_type": "markdown",
      "source": [
        "## Section 3.2 Vacuum Action"
      ],
      "metadata": {
        "id": "ho-x3NnFtZG9"
      }
    },
    {
      "cell_type": "markdown",
      "source": [
        "#### REPORT QUESTIONS\n",
        "\n",
        "\n",
        "1.   \n",
        "Even though the CPT in section 3.2.1 in the [book](https://www.roboticsbook.org/S32_vacuum_actions.html) above has 100 numbers in it, how many independent degrees of freedom do we actually have when specifying this CPT?\n",
        "2.   If we start from the Dining Room and attempt to go left, i.e., action A0 = L, what is the PMF over the next state?\n",
        "\n",
        "\n"
      ],
      "metadata": {
        "id": "2P7bF6kFBVfx"
      }
    },
    {
      "cell_type": "markdown",
      "source": [
        "### *CODING TIME*\n",
        "In this part we will creating a descrete **Bayes Net** using a simple motion model (conditional probability of the states). \n",
        "We will use the actions and states from 3.1 coding part to check our conditional probability model and the Bayes Net created from it.\n",
        "\n",
        "[Textbook  Section 3.2](https://www.roboticsbook.org/S32_vacuum_actions.html) is your best friend."
      ],
      "metadata": {
        "id": "PohBuGEBWvCF"
      }
    },
    {
      "cell_type": "code",
      "source": [
        "\n",
        "# TODO 3\n",
        "def create_motion_model(actions, states, spec):\n",
        "  \"\"\"\n",
        "  Returns a motion model that describes state transitions P(X2|X1, A1)\n",
        "\n",
        "      Parameters:\n",
        "          actions (dict): a discrete series of actions\n",
        "          states (dict): a discrete series of states (rooms)\n",
        "          spec (str): a table that contains all possible values for P(X2|X1, A1)\n",
        "\n",
        "      Returns:\n",
        "          motion_model (gtsam.DiscreteConditional): a DiscreteConditional that \n",
        "          describes the state transition model P(X2|X1, A1)\n",
        "  \"\"\"\n",
        "  motion_model = None\n",
        "  ###############################################################################\n",
        "  #                             START OF YOUR CODE                              #\n",
        "  ############################################################################### \n",
        "  motion_model = gtsam.DiscreteConditional(states[2], [states[1], actions[1]], spec)\n",
        "  ###############################################################################\n",
        "  #                              END OF YOUR CODE                               #\n",
        "  ###############################################################################\n",
        "  return motion_model\n"
      ],
      "metadata": {
        "id": "qZ6T__bWPMbI"
      },
      "execution_count": null,
      "outputs": []
    },
    {
      "cell_type": "markdown",
      "source": [
        "Use the probability provided to create a motion model which will be the basis for the bayes net."
      ],
      "metadata": {
        "id": "eYfIZehRyB9k"
      }
    },
    {
      "cell_type": "code",
      "source": [
        "prob_spec = \"\"\"\n",
        "    1/0/0/0/0 2/8/0/0/0 1/0/0/0/0 2/0/0/8/0\n",
        "    8/2/0/0/0 0/1/0/0/0 0/1/0/0/0 2/0/0/0/8\n",
        "    0/0/1/0/0 0/0/2/8/0 0/0/1/0/0 0/0/1/0/0\n",
        "    0/0/8/2/0 0/0/0/2/8 8/0/0/2/0 0/0/0/1/0\n",
        "    0/0/0/8/2 0/0/0/0/1 0/8/0/0/2 0/0/0/0/1\n",
        "    \"\"\"\n",
        "  \n",
        "model = create_motion_model(A,X,prob_spec)\n",
        "pretty(model)"
      ],
      "metadata": {
        "id": "6YMmLFn_XYl5",
        "colab": {
          "base_uri": "https://localhost:8080/",
          "height": 497
        },
        "outputId": "7db02dbc-d980-40e6-bcb8-f08d0805cca3"
      },
      "execution_count": null,
      "outputs": [
        {
          "output_type": "execute_result",
          "data": {
            "text/html": [
              "<div>\n",
              "<p>  <i>P(X2|X1,A1):</i></p>\n",
              "<table class='DiscreteConditional'>\n",
              "  <thead>\n",
              "    <tr><th><i>X1</i></th><th><i>A1</i></th><th>Living Room</th><th>Kitchen</th><th>Office</th><th>Hallway</th><th>Dining Room</th></tr>\n",
              "  </thead>\n",
              "  <tbody>\n",
              "    <tr><th>Living Room</th><th>L</th><td>1</td><td>0</td><td>0</td><td>0</td><td>0</td></tr>\n",
              "    <tr><th>Living Room</th><th>R</th><td>0.2</td><td>0.8</td><td>0</td><td>0</td><td>0</td></tr>\n",
              "    <tr><th>Living Room</th><th>U</th><td>1</td><td>0</td><td>0</td><td>0</td><td>0</td></tr>\n",
              "    <tr><th>Living Room</th><th>D</th><td>0.2</td><td>0</td><td>0</td><td>0.8</td><td>0</td></tr>\n",
              "    <tr><th>Kitchen</th><th>L</th><td>0.8</td><td>0.2</td><td>0</td><td>0</td><td>0</td></tr>\n",
              "    <tr><th>Kitchen</th><th>R</th><td>0</td><td>1</td><td>0</td><td>0</td><td>0</td></tr>\n",
              "    <tr><th>Kitchen</th><th>U</th><td>0</td><td>1</td><td>0</td><td>0</td><td>0</td></tr>\n",
              "    <tr><th>Kitchen</th><th>D</th><td>0.2</td><td>0</td><td>0</td><td>0</td><td>0.8</td></tr>\n",
              "    <tr><th>Office</th><th>L</th><td>0</td><td>0</td><td>1</td><td>0</td><td>0</td></tr>\n",
              "    <tr><th>Office</th><th>R</th><td>0</td><td>0</td><td>0.2</td><td>0.8</td><td>0</td></tr>\n",
              "    <tr><th>Office</th><th>U</th><td>0</td><td>0</td><td>1</td><td>0</td><td>0</td></tr>\n",
              "    <tr><th>Office</th><th>D</th><td>0</td><td>0</td><td>1</td><td>0</td><td>0</td></tr>\n",
              "    <tr><th>Hallway</th><th>L</th><td>0</td><td>0</td><td>0.8</td><td>0.2</td><td>0</td></tr>\n",
              "    <tr><th>Hallway</th><th>R</th><td>0</td><td>0</td><td>0</td><td>0.2</td><td>0.8</td></tr>\n",
              "    <tr><th>Hallway</th><th>U</th><td>0.8</td><td>0</td><td>0</td><td>0.2</td><td>0</td></tr>\n",
              "    <tr><th>Hallway</th><th>D</th><td>0</td><td>0</td><td>0</td><td>1</td><td>0</td></tr>\n",
              "    <tr><th>Dining Room</th><th>L</th><td>0</td><td>0</td><td>0</td><td>0.8</td><td>0.2</td></tr>\n",
              "    <tr><th>Dining Room</th><th>R</th><td>0</td><td>0</td><td>0</td><td>0</td><td>1</td></tr>\n",
              "    <tr><th>Dining Room</th><th>U</th><td>0</td><td>0.8</td><td>0</td><td>0</td><td>0.2</td></tr>\n",
              "    <tr><th>Dining Room</th><th>D</th><td>0</td><td>0</td><td>0</td><td>0</td><td>1</td></tr>\n",
              "  </tbody>\n",
              "</table>\n",
              "</div>"
            ],
            "text/plain": [
              "<gtbook.display.pretty at 0x7fd07389f390>"
            ]
          },
          "metadata": {},
          "execution_count": 8
        }
      ]
    },
    {
      "cell_type": "code",
      "source": [
        "\n",
        "# TODO 4\n",
        "def create_bayes_net(motion_model):\n",
        "  \"\"\"\n",
        "  Returns a discrete bayes net of the motion model P(X2|X1, A1)\n",
        "\n",
        "      Parameters:\n",
        "          motion_model (gtsam.DiscreteConditional): a DiscreteConditional that describes the state transition model P(X2|X1, A1)\n",
        "\n",
        "      Returns:\n",
        "          bayes_net (gtsam.DiscreteBayesNet): a DiscreteBayesnet that describes the motion model\n",
        "  \"\"\"\n",
        "  bayes_net = None\n",
        "  ###############################################################################\n",
        "  #                             START OF YOUR CODE                              #\n",
        "  ############################################################################### \n",
        "  bayes_net = gtsam.DiscreteBayesNet()\n",
        "  bayes_net.add(motion_model)\n",
        "  ###############################################################################\n",
        "  #                              END OF YOUR CODE                               #\n",
        "  ###############################################################################\n",
        "  return bayes_net"
      ],
      "metadata": {
        "id": "pCHDFZMfRq8U"
      },
      "execution_count": null,
      "outputs": []
    },
    {
      "cell_type": "markdown",
      "source": [
        "You can test the bayes net function by checking if this creates a 3 node graph with X1 and A1 pointing to X2. "
      ],
      "metadata": {
        "id": "wJJgqFroyS3u"
      }
    },
    {
      "cell_type": "code",
      "source": [
        "bayes_net = create_bayes_net(model)\n",
        "show(bayes_net)"
      ],
      "metadata": {
        "id": "MTdtTr5Zm7xn",
        "colab": {
          "base_uri": "https://localhost:8080/",
          "height": 176
        },
        "outputId": "b4daec0e-a6a4-4d1a-f397-8218559470fd"
      },
      "execution_count": null,
      "outputs": [
        {
          "output_type": "execute_result",
          "data": {
            "text/plain": [
              "<gtbook.display.show at 0x7fd07389ff90>"
            ],
            "image/svg+xml": "<?xml version=\"1.0\" encoding=\"UTF-8\" standalone=\"no\"?>\n<!DOCTYPE svg PUBLIC \"-//W3C//DTD SVG 1.1//EN\"\n \"http://www.w3.org/Graphics/SVG/1.1/DTD/svg11.dtd\">\n<!-- Generated by graphviz version 2.40.1 (20161225.0304)\n -->\n<!-- Title: %3 Pages: 1 -->\n<svg width=\"134pt\" height=\"116pt\"\n viewBox=\"0.00 0.00 134.00 116.00\" xmlns=\"http://www.w3.org/2000/svg\" xmlns:xlink=\"http://www.w3.org/1999/xlink\">\n<g id=\"graph0\" class=\"graph\" transform=\"scale(1 1) rotate(0) translate(4 112)\">\n<title>%3</title>\n<polygon fill=\"#ffffff\" stroke=\"transparent\" points=\"-4,4 -4,-112 130,-112 130,4 -4,4\"/>\n<!-- varA1 -->\n<g id=\"node1\" class=\"node\">\n<title>varA1</title>\n<ellipse fill=\"none\" stroke=\"#000000\" cx=\"27\" cy=\"-90\" rx=\"27\" ry=\"18\"/>\n<text text-anchor=\"middle\" x=\"27\" y=\"-86.3\" font-family=\"Times,serif\" font-size=\"14.00\" fill=\"#000000\">A1</text>\n</g>\n<!-- varX2 -->\n<g id=\"node3\" class=\"node\">\n<title>varX2</title>\n<ellipse fill=\"none\" stroke=\"#000000\" cx=\"63\" cy=\"-18\" rx=\"27\" ry=\"18\"/>\n<text text-anchor=\"middle\" x=\"63\" y=\"-14.3\" font-family=\"Times,serif\" font-size=\"14.00\" fill=\"#000000\">X2</text>\n</g>\n<!-- varA1&#45;&gt;varX2 -->\n<g id=\"edge2\" class=\"edge\">\n<title>varA1&#45;&gt;varX2</title>\n<path fill=\"none\" stroke=\"#000000\" d=\"M35.7146,-72.5708C39.9597,-64.0807 45.1536,-53.6929 49.8663,-44.2674\"/>\n<polygon fill=\"#000000\" stroke=\"#000000\" points=\"53.024,-45.7782 54.3657,-35.2687 46.763,-42.6477 53.024,-45.7782\"/>\n</g>\n<!-- varX1 -->\n<g id=\"node2\" class=\"node\">\n<title>varX1</title>\n<ellipse fill=\"none\" stroke=\"#000000\" cx=\"99\" cy=\"-90\" rx=\"27\" ry=\"18\"/>\n<text text-anchor=\"middle\" x=\"99\" y=\"-86.3\" font-family=\"Times,serif\" font-size=\"14.00\" fill=\"#000000\">X1</text>\n</g>\n<!-- varX1&#45;&gt;varX2 -->\n<g id=\"edge1\" class=\"edge\">\n<title>varX1&#45;&gt;varX2</title>\n<path fill=\"none\" stroke=\"#000000\" d=\"M90.2854,-72.5708C86.0403,-64.0807 80.8464,-53.6929 76.1337,-44.2674\"/>\n<polygon fill=\"#000000\" stroke=\"#000000\" points=\"79.237,-42.6477 71.6343,-35.2687 72.976,-45.7782 79.237,-42.6477\"/>\n</g>\n</g>\n</svg>\n"
          },
          "metadata": {},
          "execution_count": 10
        }
      ]
    },
    {
      "cell_type": "markdown",
      "source": [
        "## Section 3.3 Vacuum Sensing\n"
      ],
      "metadata": {
        "id": "8_LTMBIEtZKZ"
      }
    },
    {
      "cell_type": "markdown",
      "source": [
        "#### REPORT QUESTIONS\n",
        "\n",
        "\n",
        "1.   Please run the ancestral sampling 100 times using the prior given by the TAs. Plot the histogram of the starting state X1.\n",
        "2.   We see that we are sometimes starting in the living room when we are running the ancestral sampling algorithm. \n",
        "What would you change to always start in the office? \n",
        "\n",
        "\n"
      ],
      "metadata": {
        "id": "7XTYqhaZBuBe"
      }
    },
    {
      "cell_type": "markdown",
      "source": [
        "### *CODING TIME*\n",
        "\n",
        "Let us start with a quick warm-up excercise of create a descrete series for sensor. The possible values of sensors in the coonstant. \n",
        "\n",
        "In this part we will be creating **Dynamic Bayes Net** and running **Ancestral sampling algorithm** on the DBN.\n",
        "We will use the bayes net from 3.2 coding part to start our implementation here.\n",
        "\n",
        "There are few helper functions which will ask you to create different priors and action sequences. These will be useful deepining your understanding and also testing your code.\n",
        "\n",
        "[Textbook  Section 3.3](https://www.roboticsbook.org/S33_vacuum_sensing.html) is your best friend."
      ],
      "metadata": {
        "id": "KFiIUmmEZ4FH"
      }
    },
    {
      "cell_type": "code",
      "source": [
        "# TODO 5\n",
        "def create_sensor_series(character, indices):\n",
        "  \"\"\"\n",
        "  Returns a discrete series of light levels\n",
        "\n",
        "      Parameters:\n",
        "          character (str): a single character assigned to the light levels state variable\n",
        "          indices (list of ints): a list of integer indices \n",
        "\n",
        "      Returns:\n",
        "          Z (dict): a dictionary with the keys being integer indices and the values\n",
        "                    being gtsam.DiscreteKeys\n",
        "  \"\"\"\n",
        "  Z = None\n",
        "  ###############################################################################\n",
        "  #                             START OF YOUR CODE                              #\n",
        "  ############################################################################### \n",
        "  Z = VARIABLES.discrete_series(character, indices, LIGHT_LEVELS)\n",
        "  ###############################################################################\n",
        "  #                              END OF YOUR CODE                               #\n",
        "  ###############################################################################\n",
        "  return Z"
      ],
      "metadata": {
        "id": "zbURI_NTRmUI"
      },
      "execution_count": null,
      "outputs": []
    },
    {
      "cell_type": "code",
      "source": [
        "Z = create_state_series(\"Z\", [1,2,3,4,5])\n",
        "print(\"Measurement series:\", Z)"
      ],
      "metadata": {
        "id": "e2HW4zTIpQXO",
        "colab": {
          "base_uri": "https://localhost:8080/"
        },
        "outputId": "e51561e8-974d-4d2e-bb22-e16e05a259d8"
      },
      "execution_count": null,
      "outputs": [
        {
          "output_type": "stream",
          "name": "stdout",
          "text": [
            "Measurement series: {1: (6485183463413514241, 5), 2: (6485183463413514242, 5), 3: (6485183463413514243, 5), 4: (6485183463413514244, 5), 5: (6485183463413514245, 5)}\n"
          ]
        }
      ]
    },
    {
      "cell_type": "code",
      "source": [
        "def get_prior():\n",
        "  \"\"\"\n",
        "  Returns the priors to have uniform distribution amongst all the rooms.\n",
        "\n",
        "  \"\"\"\n",
        "  return \"1/1/1/1/1\"\n",
        "\n",
        "#TODO 6\n",
        "def get_office_start_prior():\n",
        "  \"\"\"\n",
        "  Change office_start_prior such that it reflects the knowledge that the robot always starts at the office\n",
        "\n",
        "  \"\"\"\n",
        "  office_start_prior = \"\"\n",
        "  ###############################################################################\n",
        "  #                             START OF YOUR CODE                              #\n",
        "  ############################################################################### \n",
        "  office_start_prior = \"0/0/1/0/0\"\n",
        "  ###############################################################################\n",
        "  #                              END OF YOUR CODE                               #\n",
        "  ###############################################################################\n",
        "  return office_start_prior"
      ],
      "metadata": {
        "id": "K9btyVUCRtGd"
      },
      "execution_count": null,
      "outputs": []
    },
    {
      "cell_type": "code",
      "source": [
        "#TODO 7\n",
        "def create_dbn(bayes_net, priors, X, A, Z, sensor_spec, action_spec, N):\n",
        "  \"\"\"\n",
        "  Return a dynamic bayes net\n",
        "\n",
        "      Parameters:\n",
        "          bayes_net (gtsam.DiscreteBayesNet): a discrete bayes net that describes the motion model\n",
        "          priors (str): the prior knowledge of the robot regards the room state\n",
        "          X (dict): a discrete series of (room) states\n",
        "          A (dict): a discrete series of actions\n",
        "          Z (dict): a discrete series of sensor measurements (light levels)\n",
        "          sensor_spec (str): A table that contains all possible values of P(Z1|X1)\n",
        "          action_spec (str): A table that contains all possible values of P(X2|X1, A1)\n",
        "          N: number of states for the DBN\n",
        "\n",
        "      Returns:\n",
        "          dbn (gtsam.DiscreteBayesNet): the dynamic bayes net that represents the evolution of the (room) state over time\n",
        "  \"\"\"\n",
        "  dbn = None \n",
        "  ###############################################################################\n",
        "  #                             START OF YOUR CODE                              #\n",
        "  ############################################################################### \n",
        "  dbn = bayes_net\n",
        "  for k in range(1, N+1):\n",
        "    dbn.add(Z[k], [X[k]], sensor_spec)\n",
        "  for k in reversed(range(1, N)):\n",
        "    dbn.add(X[k+1], [X[k], A[k]], action_spec)\n",
        "  dbn.add(X[1], priors)\n",
        "  ###############################################################################\n",
        "  #                              END OF YOUR CODE                               #\n",
        "  ###############################################################################\n",
        "  return dbn\n"
      ],
      "metadata": {
        "id": "OghCJtuQR9kG"
      },
      "execution_count": null,
      "outputs": []
    },
    {
      "cell_type": "code",
      "source": [
        "priors = get_prior()\n",
        "action_spec = \"\"\"\n",
        "    1/0/0/0/0 0/1/0/0/0 1/0/0/0/0 0/0/0/1/0\n",
        "    1/0/0/0/0 0/1/0/0/0 0/1/0/0/0 0/0/0/0/1\n",
        "    0/0/1/0/0 0/0/0/1/0 0/0/1/0/0 0/0/1/0/0\n",
        "    0/0/1/0/0 0/0/0/0/1 1/0/0/0/0 0/0/0/1/0\n",
        "    0/0/0/1/0 0/0/0/0/1 0/1/0/0/0 0/0/0/0/1\n",
        "    \"\"\"\n",
        "sensor_spec = \"1/1/8 1/1/8 2/7/1 8/1/1 1/8/1\"\n",
        "N = 5\n",
        "X = create_state_series(\"X\", range(1,N+1))\n",
        "A = create_action_series(\"A\", range(1,N))\n",
        "Z = create_sensor_series(\"Z\", range(1,N+1))"
      ],
      "metadata": {
        "id": "sftZuypRsT2j"
      },
      "execution_count": null,
      "outputs": []
    },
    {
      "cell_type": "markdown",
      "source": [
        "You can visualize the Dynamic Bayes Net which you have created. Try to think how will it look before actually running it. "
      ],
      "metadata": {
        "id": "7yRUpC-tzqTa"
      }
    },
    {
      "cell_type": "code",
      "source": [
        "dbn = create_dbn(bayes_net,priors, X, A, Z, sensor_spec, action_spec, 5)\n",
        "show(dbn, hints={\"A\":2, \"X\":1, \"Z\":0}, boxes={A[k][0] for k in range(1,N)})\n",
        "# pretty(dbn)"
      ],
      "metadata": {
        "id": "welap-jMsCT_",
        "colab": {
          "base_uri": "https://localhost:8080/",
          "height": 272
        },
        "outputId": "d3c846b1-c6be-40a5-d83d-39d7d2ec2242"
      },
      "execution_count": null,
      "outputs": [
        {
          "output_type": "execute_result",
          "data": {
            "text/plain": [
              "<gtbook.display.show at 0x7fd077d91390>"
            ],
            "image/svg+xml": "<?xml version=\"1.0\" encoding=\"UTF-8\" standalone=\"no\"?>\n<!DOCTYPE svg PUBLIC \"-//W3C//DTD SVG 1.1//EN\"\n \"http://www.w3.org/Graphics/SVG/1.1/DTD/svg11.dtd\">\n<!-- Generated by graphviz version 2.40.1 (20161225.0304)\n -->\n<!-- Title: %3 Pages: 1 -->\n<svg width=\"350pt\" height=\"188pt\"\n viewBox=\"0.00 0.00 350.00 188.00\" xmlns=\"http://www.w3.org/2000/svg\" xmlns:xlink=\"http://www.w3.org/1999/xlink\">\n<g id=\"graph0\" class=\"graph\" transform=\"scale(1 1) rotate(0) translate(4 184)\">\n<title>%3</title>\n<polygon fill=\"#ffffff\" stroke=\"transparent\" points=\"-4,4 -4,-184 346,-184 346,4 -4,4\"/>\n<!-- varA1 -->\n<g id=\"node1\" class=\"node\">\n<title>varA1</title>\n<polygon fill=\"none\" stroke=\"#000000\" points=\"54,-180 0,-180 0,-144 54,-144 54,-180\"/>\n<text text-anchor=\"middle\" x=\"27\" y=\"-158.3\" font-family=\"Times,serif\" font-size=\"14.00\" fill=\"#000000\">A1</text>\n</g>\n<!-- varX2 -->\n<g id=\"node6\" class=\"node\">\n<title>varX2</title>\n<ellipse fill=\"none\" stroke=\"#000000\" cx=\"99\" cy=\"-90\" rx=\"27\" ry=\"18\"/>\n<text text-anchor=\"middle\" x=\"99\" y=\"-86.3\" font-family=\"Times,serif\" font-size=\"14.00\" fill=\"#000000\">X2</text>\n</g>\n<!-- varA1&#45;&gt;varX2 -->\n<g id=\"edge2\" class=\"edge\">\n<title>varA1&#45;&gt;varX2</title>\n<path fill=\"none\" stroke=\"#000000\" d=\"M54.2559,-143.6934C63.9626,-134.8607 74.5471,-124.19 83.0258,-114.665\"/>\n<polygon fill=\"#000000\" stroke=\"#000000\" points=\"85.7437,-116.872 89.5871,-106.9989 80.4256,-112.3203 85.7437,-116.872\"/>\n</g>\n<!-- varA1&#45;&gt;varX2 -->\n<g id=\"edge15\" class=\"edge\">\n<title>varA1&#45;&gt;varX2</title>\n<path fill=\"none\" stroke=\"#000000\" d=\"M37.3332,-143.8834C46.2352,-133.1523 59.3092,-119.6729 71.169,-108.8312\"/>\n<polygon fill=\"#000000\" stroke=\"#000000\" points=\"73.5592,-111.3896 78.7311,-102.1429 68.9217,-106.1462 73.5592,-111.3896\"/>\n</g>\n<!-- varA2 -->\n<g id=\"node2\" class=\"node\">\n<title>varA2</title>\n<polygon fill=\"none\" stroke=\"#000000\" points=\"126,-180 72,-180 72,-144 126,-144 126,-180\"/>\n<text text-anchor=\"middle\" x=\"99\" y=\"-158.3\" font-family=\"Times,serif\" font-size=\"14.00\" fill=\"#000000\">A2</text>\n</g>\n<!-- varX3 -->\n<g id=\"node7\" class=\"node\">\n<title>varX3</title>\n<ellipse fill=\"none\" stroke=\"#000000\" cx=\"171\" cy=\"-90\" rx=\"27\" ry=\"18\"/>\n<text text-anchor=\"middle\" x=\"171\" y=\"-86.3\" font-family=\"Times,serif\" font-size=\"14.00\" fill=\"#000000\">X3</text>\n</g>\n<!-- varA2&#45;&gt;varX3 -->\n<g id=\"edge4\" class=\"edge\">\n<title>varA2&#45;&gt;varX3</title>\n<path fill=\"none\" stroke=\"#000000\" d=\"M117.1686,-143.8314C126.7294,-134.2706 138.5349,-122.4651 148.6519,-112.3481\"/>\n<polygon fill=\"#000000\" stroke=\"#000000\" points=\"151.3979,-114.5519 155.9941,-105.0059 146.4481,-109.6021 151.3979,-114.5519\"/>\n</g>\n<!-- varA3 -->\n<g id=\"node3\" class=\"node\">\n<title>varA3</title>\n<polygon fill=\"none\" stroke=\"#000000\" points=\"198,-180 144,-180 144,-144 198,-144 198,-180\"/>\n<text text-anchor=\"middle\" x=\"171\" y=\"-158.3\" font-family=\"Times,serif\" font-size=\"14.00\" fill=\"#000000\">A3</text>\n</g>\n<!-- varX4 -->\n<g id=\"node8\" class=\"node\">\n<title>varX4</title>\n<ellipse fill=\"none\" stroke=\"#000000\" cx=\"243\" cy=\"-90\" rx=\"27\" ry=\"18\"/>\n<text text-anchor=\"middle\" x=\"243\" y=\"-86.3\" font-family=\"Times,serif\" font-size=\"14.00\" fill=\"#000000\">X4</text>\n</g>\n<!-- varA3&#45;&gt;varX4 -->\n<g id=\"edge6\" class=\"edge\">\n<title>varA3&#45;&gt;varX4</title>\n<path fill=\"none\" stroke=\"#000000\" d=\"M189.1686,-143.8314C198.7294,-134.2706 210.5349,-122.4651 220.6519,-112.3481\"/>\n<polygon fill=\"#000000\" stroke=\"#000000\" points=\"223.3979,-114.5519 227.9941,-105.0059 218.4481,-109.6021 223.3979,-114.5519\"/>\n</g>\n<!-- varA4 -->\n<g id=\"node4\" class=\"node\">\n<title>varA4</title>\n<polygon fill=\"none\" stroke=\"#000000\" points=\"270,-180 216,-180 216,-144 270,-144 270,-180\"/>\n<text text-anchor=\"middle\" x=\"243\" y=\"-158.3\" font-family=\"Times,serif\" font-size=\"14.00\" fill=\"#000000\">A4</text>\n</g>\n<!-- varX5 -->\n<g id=\"node9\" class=\"node\">\n<title>varX5</title>\n<ellipse fill=\"none\" stroke=\"#000000\" cx=\"315\" cy=\"-90\" rx=\"27\" ry=\"18\"/>\n<text text-anchor=\"middle\" x=\"315\" y=\"-86.3\" font-family=\"Times,serif\" font-size=\"14.00\" fill=\"#000000\">X5</text>\n</g>\n<!-- varA4&#45;&gt;varX5 -->\n<g id=\"edge8\" class=\"edge\">\n<title>varA4&#45;&gt;varX5</title>\n<path fill=\"none\" stroke=\"#000000\" d=\"M261.1686,-143.8314C270.7294,-134.2706 282.5349,-122.4651 292.6519,-112.3481\"/>\n<polygon fill=\"#000000\" stroke=\"#000000\" points=\"295.3979,-114.5519 299.9941,-105.0059 290.4481,-109.6021 295.3979,-114.5519\"/>\n</g>\n<!-- varX1 -->\n<g id=\"node5\" class=\"node\">\n<title>varX1</title>\n<ellipse fill=\"none\" stroke=\"#000000\" cx=\"27\" cy=\"-90\" rx=\"27\" ry=\"18\"/>\n<text text-anchor=\"middle\" x=\"27\" y=\"-86.3\" font-family=\"Times,serif\" font-size=\"14.00\" fill=\"#000000\">X1</text>\n</g>\n<!-- varX1&#45;&gt;varX2 -->\n<g id=\"edge1\" class=\"edge\">\n<title>varX1&#45;&gt;varX2</title>\n<path fill=\"none\" stroke=\"#000000\" d=\"M52.5872,-96.4925C56.0886,-96.6703 59.7337,-96.756 63.3738,-96.7497\"/>\n<polygon fill=\"#000000\" stroke=\"#000000\" points=\"63.5889,-100.2454 73.4952,-96.4883 63.4081,-93.2477 63.5889,-100.2454\"/>\n</g>\n<!-- varX1&#45;&gt;varX2 -->\n<g id=\"edge14\" class=\"edge\">\n<title>varX1&#45;&gt;varX2</title>\n<path fill=\"none\" stroke=\"#000000\" d=\"M52.5872,-83.5075C56.0886,-83.3297 59.7337,-83.244 63.3738,-83.2503\"/>\n<polygon fill=\"#000000\" stroke=\"#000000\" points=\"63.4081,-86.7523 73.4952,-83.5117 63.5889,-79.7546 63.4081,-86.7523\"/>\n</g>\n<!-- varZ1 -->\n<g id=\"node10\" class=\"node\">\n<title>varZ1</title>\n<ellipse fill=\"none\" stroke=\"#000000\" cx=\"27\" cy=\"-18\" rx=\"27\" ry=\"18\"/>\n<text text-anchor=\"middle\" x=\"27\" y=\"-14.3\" font-family=\"Times,serif\" font-size=\"14.00\" fill=\"#000000\">Z1</text>\n</g>\n<!-- varX1&#45;&gt;varZ1 -->\n<g id=\"edge13\" class=\"edge\">\n<title>varX1&#45;&gt;varZ1</title>\n<path fill=\"none\" stroke=\"#000000\" d=\"M27,-71.8314C27,-64.131 27,-54.9743 27,-46.4166\"/>\n<polygon fill=\"#000000\" stroke=\"#000000\" points=\"30.5001,-46.4132 27,-36.4133 23.5001,-46.4133 30.5001,-46.4132\"/>\n</g>\n<!-- varX2&#45;&gt;varX3 -->\n<g id=\"edge3\" class=\"edge\">\n<title>varX2&#45;&gt;varX3</title>\n<path fill=\"none\" stroke=\"#000000\" d=\"M126.2201,-90C128.6393,-90 131.1149,-90 133.5993,-90\"/>\n<polygon fill=\"#000000\" stroke=\"#000000\" points=\"133.7414,-93.5001 143.7414,-90 133.7414,-86.5001 133.7414,-93.5001\"/>\n</g>\n<!-- varZ2 -->\n<g id=\"node11\" class=\"node\">\n<title>varZ2</title>\n<ellipse fill=\"none\" stroke=\"#000000\" cx=\"99\" cy=\"-18\" rx=\"27\" ry=\"18\"/>\n<text text-anchor=\"middle\" x=\"99\" y=\"-14.3\" font-family=\"Times,serif\" font-size=\"14.00\" fill=\"#000000\">Z2</text>\n</g>\n<!-- varX2&#45;&gt;varZ2 -->\n<g id=\"edge12\" class=\"edge\">\n<title>varX2&#45;&gt;varZ2</title>\n<path fill=\"none\" stroke=\"#000000\" d=\"M99,-71.8314C99,-64.131 99,-54.9743 99,-46.4166\"/>\n<polygon fill=\"#000000\" stroke=\"#000000\" points=\"102.5001,-46.4132 99,-36.4133 95.5001,-46.4133 102.5001,-46.4132\"/>\n</g>\n<!-- varX3&#45;&gt;varX4 -->\n<g id=\"edge5\" class=\"edge\">\n<title>varX3&#45;&gt;varX4</title>\n<path fill=\"none\" stroke=\"#000000\" d=\"M198.2201,-90C200.6393,-90 203.1149,-90 205.5993,-90\"/>\n<polygon fill=\"#000000\" stroke=\"#000000\" points=\"205.7414,-93.5001 215.7414,-90 205.7414,-86.5001 205.7414,-93.5001\"/>\n</g>\n<!-- varZ3 -->\n<g id=\"node12\" class=\"node\">\n<title>varZ3</title>\n<ellipse fill=\"none\" stroke=\"#000000\" cx=\"171\" cy=\"-18\" rx=\"27\" ry=\"18\"/>\n<text text-anchor=\"middle\" x=\"171\" y=\"-14.3\" font-family=\"Times,serif\" font-size=\"14.00\" fill=\"#000000\">Z3</text>\n</g>\n<!-- varX3&#45;&gt;varZ3 -->\n<g id=\"edge11\" class=\"edge\">\n<title>varX3&#45;&gt;varZ3</title>\n<path fill=\"none\" stroke=\"#000000\" d=\"M171,-71.8314C171,-64.131 171,-54.9743 171,-46.4166\"/>\n<polygon fill=\"#000000\" stroke=\"#000000\" points=\"174.5001,-46.4132 171,-36.4133 167.5001,-46.4133 174.5001,-46.4132\"/>\n</g>\n<!-- varX4&#45;&gt;varX5 -->\n<g id=\"edge7\" class=\"edge\">\n<title>varX4&#45;&gt;varX5</title>\n<path fill=\"none\" stroke=\"#000000\" d=\"M270.2201,-90C272.6393,-90 275.1149,-90 277.5993,-90\"/>\n<polygon fill=\"#000000\" stroke=\"#000000\" points=\"277.7414,-93.5001 287.7414,-90 277.7414,-86.5001 277.7414,-93.5001\"/>\n</g>\n<!-- varZ4 -->\n<g id=\"node13\" class=\"node\">\n<title>varZ4</title>\n<ellipse fill=\"none\" stroke=\"#000000\" cx=\"243\" cy=\"-18\" rx=\"27\" ry=\"18\"/>\n<text text-anchor=\"middle\" x=\"243\" y=\"-14.3\" font-family=\"Times,serif\" font-size=\"14.00\" fill=\"#000000\">Z4</text>\n</g>\n<!-- varX4&#45;&gt;varZ4 -->\n<g id=\"edge10\" class=\"edge\">\n<title>varX4&#45;&gt;varZ4</title>\n<path fill=\"none\" stroke=\"#000000\" d=\"M243,-71.8314C243,-64.131 243,-54.9743 243,-46.4166\"/>\n<polygon fill=\"#000000\" stroke=\"#000000\" points=\"246.5001,-46.4132 243,-36.4133 239.5001,-46.4133 246.5001,-46.4132\"/>\n</g>\n<!-- varZ5 -->\n<g id=\"node14\" class=\"node\">\n<title>varZ5</title>\n<ellipse fill=\"none\" stroke=\"#000000\" cx=\"315\" cy=\"-18\" rx=\"27\" ry=\"18\"/>\n<text text-anchor=\"middle\" x=\"315\" y=\"-14.3\" font-family=\"Times,serif\" font-size=\"14.00\" fill=\"#000000\">Z5</text>\n</g>\n<!-- varX5&#45;&gt;varZ5 -->\n<g id=\"edge9\" class=\"edge\">\n<title>varX5&#45;&gt;varZ5</title>\n<path fill=\"none\" stroke=\"#000000\" d=\"M315,-71.8314C315,-64.131 315,-54.9743 315,-46.4166\"/>\n<polygon fill=\"#000000\" stroke=\"#000000\" points=\"318.5001,-46.4132 315,-36.4133 311.5001,-46.4133 318.5001,-46.4132\"/>\n</g>\n</g>\n</svg>\n"
          },
          "metadata": {},
          "execution_count": 16
        }
      ]
    },
    {
      "cell_type": "code",
      "source": [
        "#TODO 8\n",
        "def create_all_left_action_sequence(A,num_actions):\n",
        "  \"\"\"\n",
        "  Return an action sequence such that all actions within the sequence is \"L\" (left)\n",
        "\n",
        "      Parameters:\n",
        "          A: Actions dictionary\n",
        "          num_actions (int): number of actions within the sequence\n",
        "\n",
        "      Returns:\n",
        "          action_seq (dict): a dictionary with the key being the action state variable (for instance, \"A1\", \"A2\", ...)\n",
        "                             and the value being the left action \"L\"\n",
        "  \"\"\"\n",
        "  action_seq  = None\n",
        "  ###############################################################################\n",
        "  #                             START OF YOUR CODE                              #\n",
        "  ############################################################################### \n",
        "  action_seq = {A[k]: \"L\" for k in range(1, num_actions + 1)}\n",
        "  ###############################################################################\n",
        "  #                              END OF YOUR CODE                               #\n",
        "  ###############################################################################\n",
        "  return action_seq\n",
        "\n",
        "#TODO 9\n",
        "def create_custom_action_sequence(A, num_actions):\n",
        "  \"\"\"\n",
        "  Return an action sequence such that all actions within the sequence is \"L\" (left) except the last action being \"U\" (up)\n",
        "  For example, if num_action is 1, then action sequence is {\"A1\": \"U\"}\n",
        "               if num_action is 2, then action sequence is {\"A1\": \"L\", \"A2\": \"U\"}\n",
        "               if num_action is 3, then action sequence is {\"A1\": \"L\", \"A2\": \"L\", \"A3\": \"U\"}\n",
        "\n",
        "      Parameters:\n",
        "          A: Actions dictionary\n",
        "          num_actions (int): number of actions within the sequence\n",
        "\n",
        "      Returns:\n",
        "          action_seq (dict): a dictionary with the key being the action state variable (for instance, \"A1\", \"A2\", ...)\n",
        "                             and the value being the specific action from \"L\", \"R\", \"U\", \"D\"\n",
        "  \"\"\"\n",
        "  action_seq  = None\n",
        "  ###############################################################################\n",
        "  #                             START OF YOUR CODE                              #\n",
        "  ###############################################################################\n",
        "  action_seq = {A[k]: \"L\" for k in range(1, num_actions)}\n",
        "  action_seq[A[num_actions]] = \"U\"\n",
        "  ###############################################################################\n",
        "  #                              END OF YOUR CODE                               #\n",
        "  ###############################################################################\n",
        "  return action_seq\n"
      ],
      "metadata": {
        "id": "-nHiKLEWSDhc"
      },
      "execution_count": null,
      "outputs": []
    },
    {
      "cell_type": "code",
      "source": [
        "#TODO 10\n",
        "def ancestral_sampling(dbn, action_sequence):\n",
        "  \"\"\"\n",
        "  Returns an ancestral sampling of a dynamic bayes net\n",
        "\n",
        "      Parameters:\n",
        "          dbn (gtsam.DiscreteBayesNet): the dynamic bayes net that represents the evolution of the (room) state over time\n",
        "          action_sequence (dict): a dictionary with the key being the action state variable (for instance, \"A1\", \"A2\", ...)\n",
        "                                  and the value being the specific action from \"L\", \"R\", \"U\", \"D\"\n",
        "\n",
        "      Returns:\n",
        "          samples (gtsam.DiscreteValues): a DiscreteValues variable that contains key-value pairs with the key being all variables\n",
        "                                          within the dynamic bayes net (for instance X1, X2, A1, A2, Z1, Z2) and the value being\n",
        "                                          its corresponding sampled value\n",
        "  \"\"\"\n",
        "  samples = None \n",
        "  ###############################################################################\n",
        "  #                             START OF YOUR CODE                              #\n",
        "  ############################################################################### \n",
        "  samples = dbn.sample(VARIABLES.assignment(action_sequence))\n",
        "  ###############################################################################\n",
        "  #                              END OF YOUR CODE                               #\n",
        "  ###############################################################################\n",
        "  return samples"
      ],
      "metadata": {
        "id": "KZ6Ze59SSFOj"
      },
      "execution_count": null,
      "outputs": []
    },
    {
      "cell_type": "code",
      "source": [
        "#Change \"test_action_sequence\" using the two functions above \n",
        "# i.e,  create_custom_action_sequnece and create_all_left_action_sequnece\n",
        "\n",
        "test_action_sequence = {A[k]: \"R\" for k in range(1,5)} \n",
        "#test_action_sequence = create_all_left_action_sequence(A,5)\n",
        "#test_action_sequence = create_custom_action_sequence(A,5)\n",
        "\n",
        "print(ancestral_sampling(dbn, test_action_sequence))\n",
        "\n",
        "\n",
        "startingStates = []\n",
        "for k in range(100):\n",
        "  sample = ancestral_sampling(dbn, test_action_sequence)\n",
        "  startingStates.append(sample[X[1][0]])\n",
        "print(startingStates)\n",
        "\n",
        "fig = px.histogram(startingStates)\n",
        "fig.show()\n"
      ],
      "metadata": {
        "id": "xkZ-mjQVt9X_",
        "colab": {
          "base_uri": "https://localhost:8080/",
          "height": 597
        },
        "outputId": "733ff98f-ed52-453a-b2f6-7f675683cfd2"
      },
      "execution_count": null,
      "outputs": [
        {
          "output_type": "stream",
          "name": "stdout",
          "text": [
            "DiscreteValues{4683743612465315841: 1, 4683743612465315842: 1, 4683743612465315843: 1, 4683743612465315844: 1, 6341068275337658369: 0, 6341068275337658370: 1, 6341068275337658371: 1, 6341068275337658372: 1, 6341068275337658373: 1, 6485183463413514241: 1, 6485183463413514242: 2, 6485183463413514243: 2, 6485183463413514244: 2, 6485183463413514245: 2}\n",
            "[0, 3, 1, 3, 3, 1, 2, 1, 3, 4, 1, 1, 4, 3, 2, 1, 4, 4, 2, 4, 1, 4, 2, 0, 2, 3, 1, 4, 0, 3, 3, 3, 4, 2, 0, 0, 3, 0, 1, 1, 4, 1, 2, 0, 3, 2, 2, 4, 2, 1, 3, 4, 4, 0, 2, 4, 3, 0, 2, 1, 1, 0, 0, 1, 4, 1, 4, 0, 1, 2, 4, 1, 4, 2, 4, 2, 4, 3, 3, 0, 3, 0, 2, 4, 1, 2, 1, 2, 4, 2, 3, 2, 4, 0, 4, 2, 2, 3, 0, 0]\n"
          ]
        },
        {
          "output_type": "display_data",
          "data": {
            "text/html": [
              "<html>\n",
              "<head><meta charset=\"utf-8\" /></head>\n",
              "<body>\n",
              "    <div>            <script src=\"https://cdnjs.cloudflare.com/ajax/libs/mathjax/2.7.5/MathJax.js?config=TeX-AMS-MML_SVG\"></script><script type=\"text/javascript\">if (window.MathJax) {MathJax.Hub.Config({SVG: {font: \"STIX-Web\"}});}</script>                <script type=\"text/javascript\">window.PlotlyConfig = {MathJaxConfig: 'local'};</script>\n",
              "        <script src=\"https://cdn.plot.ly/plotly-2.8.3.min.js\"></script>                <div id=\"632d66d7-c8b5-44ba-b244-b631a189eaaa\" class=\"plotly-graph-div\" style=\"height:525px; width:100%;\"></div>            <script type=\"text/javascript\">                                    window.PLOTLYENV=window.PLOTLYENV || {};                                    if (document.getElementById(\"632d66d7-c8b5-44ba-b244-b631a189eaaa\")) {                    Plotly.newPlot(                        \"632d66d7-c8b5-44ba-b244-b631a189eaaa\",                        [{\"alignmentgroup\":\"True\",\"bingroup\":\"x\",\"hovertemplate\":\"variable=0<br>value=%{x}<br>count=%{y}<extra></extra>\",\"legendgroup\":\"0\",\"marker\":{\"color\":\"#636efa\",\"pattern\":{\"shape\":\"\"}},\"name\":\"0\",\"offsetgroup\":\"0\",\"orientation\":\"v\",\"showlegend\":true,\"x\":[0,3,1,3,3,1,2,1,3,4,1,1,4,3,2,1,4,4,2,4,1,4,2,0,2,3,1,4,0,3,3,3,4,2,0,0,3,0,1,1,4,1,2,0,3,2,2,4,2,1,3,4,4,0,2,4,3,0,2,1,1,0,0,1,4,1,4,0,1,2,4,1,4,2,4,2,4,3,3,0,3,0,2,4,1,2,1,2,4,2,3,2,4,0,4,2,2,3,0,0],\"xaxis\":\"x\",\"yaxis\":\"y\",\"type\":\"histogram\"}],                        {\"template\":{\"data\":{\"bar\":[{\"error_x\":{\"color\":\"#2a3f5f\"},\"error_y\":{\"color\":\"#2a3f5f\"},\"marker\":{\"line\":{\"color\":\"#E5ECF6\",\"width\":0.5},\"pattern\":{\"fillmode\":\"overlay\",\"size\":10,\"solidity\":0.2}},\"type\":\"bar\"}],\"barpolar\":[{\"marker\":{\"line\":{\"color\":\"#E5ECF6\",\"width\":0.5},\"pattern\":{\"fillmode\":\"overlay\",\"size\":10,\"solidity\":0.2}},\"type\":\"barpolar\"}],\"carpet\":[{\"aaxis\":{\"endlinecolor\":\"#2a3f5f\",\"gridcolor\":\"white\",\"linecolor\":\"white\",\"minorgridcolor\":\"white\",\"startlinecolor\":\"#2a3f5f\"},\"baxis\":{\"endlinecolor\":\"#2a3f5f\",\"gridcolor\":\"white\",\"linecolor\":\"white\",\"minorgridcolor\":\"white\",\"startlinecolor\":\"#2a3f5f\"},\"type\":\"carpet\"}],\"choropleth\":[{\"colorbar\":{\"outlinewidth\":0,\"ticks\":\"\"},\"type\":\"choropleth\"}],\"contour\":[{\"colorbar\":{\"outlinewidth\":0,\"ticks\":\"\"},\"colorscale\":[[0.0,\"#0d0887\"],[0.1111111111111111,\"#46039f\"],[0.2222222222222222,\"#7201a8\"],[0.3333333333333333,\"#9c179e\"],[0.4444444444444444,\"#bd3786\"],[0.5555555555555556,\"#d8576b\"],[0.6666666666666666,\"#ed7953\"],[0.7777777777777778,\"#fb9f3a\"],[0.8888888888888888,\"#fdca26\"],[1.0,\"#f0f921\"]],\"type\":\"contour\"}],\"contourcarpet\":[{\"colorbar\":{\"outlinewidth\":0,\"ticks\":\"\"},\"type\":\"contourcarpet\"}],\"heatmap\":[{\"colorbar\":{\"outlinewidth\":0,\"ticks\":\"\"},\"colorscale\":[[0.0,\"#0d0887\"],[0.1111111111111111,\"#46039f\"],[0.2222222222222222,\"#7201a8\"],[0.3333333333333333,\"#9c179e\"],[0.4444444444444444,\"#bd3786\"],[0.5555555555555556,\"#d8576b\"],[0.6666666666666666,\"#ed7953\"],[0.7777777777777778,\"#fb9f3a\"],[0.8888888888888888,\"#fdca26\"],[1.0,\"#f0f921\"]],\"type\":\"heatmap\"}],\"heatmapgl\":[{\"colorbar\":{\"outlinewidth\":0,\"ticks\":\"\"},\"colorscale\":[[0.0,\"#0d0887\"],[0.1111111111111111,\"#46039f\"],[0.2222222222222222,\"#7201a8\"],[0.3333333333333333,\"#9c179e\"],[0.4444444444444444,\"#bd3786\"],[0.5555555555555556,\"#d8576b\"],[0.6666666666666666,\"#ed7953\"],[0.7777777777777778,\"#fb9f3a\"],[0.8888888888888888,\"#fdca26\"],[1.0,\"#f0f921\"]],\"type\":\"heatmapgl\"}],\"histogram\":[{\"marker\":{\"pattern\":{\"fillmode\":\"overlay\",\"size\":10,\"solidity\":0.2}},\"type\":\"histogram\"}],\"histogram2d\":[{\"colorbar\":{\"outlinewidth\":0,\"ticks\":\"\"},\"colorscale\":[[0.0,\"#0d0887\"],[0.1111111111111111,\"#46039f\"],[0.2222222222222222,\"#7201a8\"],[0.3333333333333333,\"#9c179e\"],[0.4444444444444444,\"#bd3786\"],[0.5555555555555556,\"#d8576b\"],[0.6666666666666666,\"#ed7953\"],[0.7777777777777778,\"#fb9f3a\"],[0.8888888888888888,\"#fdca26\"],[1.0,\"#f0f921\"]],\"type\":\"histogram2d\"}],\"histogram2dcontour\":[{\"colorbar\":{\"outlinewidth\":0,\"ticks\":\"\"},\"colorscale\":[[0.0,\"#0d0887\"],[0.1111111111111111,\"#46039f\"],[0.2222222222222222,\"#7201a8\"],[0.3333333333333333,\"#9c179e\"],[0.4444444444444444,\"#bd3786\"],[0.5555555555555556,\"#d8576b\"],[0.6666666666666666,\"#ed7953\"],[0.7777777777777778,\"#fb9f3a\"],[0.8888888888888888,\"#fdca26\"],[1.0,\"#f0f921\"]],\"type\":\"histogram2dcontour\"}],\"mesh3d\":[{\"colorbar\":{\"outlinewidth\":0,\"ticks\":\"\"},\"type\":\"mesh3d\"}],\"parcoords\":[{\"line\":{\"colorbar\":{\"outlinewidth\":0,\"ticks\":\"\"}},\"type\":\"parcoords\"}],\"pie\":[{\"automargin\":true,\"type\":\"pie\"}],\"scatter\":[{\"marker\":{\"colorbar\":{\"outlinewidth\":0,\"ticks\":\"\"}},\"type\":\"scatter\"}],\"scatter3d\":[{\"line\":{\"colorbar\":{\"outlinewidth\":0,\"ticks\":\"\"}},\"marker\":{\"colorbar\":{\"outlinewidth\":0,\"ticks\":\"\"}},\"type\":\"scatter3d\"}],\"scattercarpet\":[{\"marker\":{\"colorbar\":{\"outlinewidth\":0,\"ticks\":\"\"}},\"type\":\"scattercarpet\"}],\"scattergeo\":[{\"marker\":{\"colorbar\":{\"outlinewidth\":0,\"ticks\":\"\"}},\"type\":\"scattergeo\"}],\"scattergl\":[{\"marker\":{\"colorbar\":{\"outlinewidth\":0,\"ticks\":\"\"}},\"type\":\"scattergl\"}],\"scattermapbox\":[{\"marker\":{\"colorbar\":{\"outlinewidth\":0,\"ticks\":\"\"}},\"type\":\"scattermapbox\"}],\"scatterpolar\":[{\"marker\":{\"colorbar\":{\"outlinewidth\":0,\"ticks\":\"\"}},\"type\":\"scatterpolar\"}],\"scatterpolargl\":[{\"marker\":{\"colorbar\":{\"outlinewidth\":0,\"ticks\":\"\"}},\"type\":\"scatterpolargl\"}],\"scatterternary\":[{\"marker\":{\"colorbar\":{\"outlinewidth\":0,\"ticks\":\"\"}},\"type\":\"scatterternary\"}],\"surface\":[{\"colorbar\":{\"outlinewidth\":0,\"ticks\":\"\"},\"colorscale\":[[0.0,\"#0d0887\"],[0.1111111111111111,\"#46039f\"],[0.2222222222222222,\"#7201a8\"],[0.3333333333333333,\"#9c179e\"],[0.4444444444444444,\"#bd3786\"],[0.5555555555555556,\"#d8576b\"],[0.6666666666666666,\"#ed7953\"],[0.7777777777777778,\"#fb9f3a\"],[0.8888888888888888,\"#fdca26\"],[1.0,\"#f0f921\"]],\"type\":\"surface\"}],\"table\":[{\"cells\":{\"fill\":{\"color\":\"#EBF0F8\"},\"line\":{\"color\":\"white\"}},\"header\":{\"fill\":{\"color\":\"#C8D4E3\"},\"line\":{\"color\":\"white\"}},\"type\":\"table\"}]},\"layout\":{\"annotationdefaults\":{\"arrowcolor\":\"#2a3f5f\",\"arrowhead\":0,\"arrowwidth\":1},\"autotypenumbers\":\"strict\",\"coloraxis\":{\"colorbar\":{\"outlinewidth\":0,\"ticks\":\"\"}},\"colorscale\":{\"diverging\":[[0,\"#8e0152\"],[0.1,\"#c51b7d\"],[0.2,\"#de77ae\"],[0.3,\"#f1b6da\"],[0.4,\"#fde0ef\"],[0.5,\"#f7f7f7\"],[0.6,\"#e6f5d0\"],[0.7,\"#b8e186\"],[0.8,\"#7fbc41\"],[0.9,\"#4d9221\"],[1,\"#276419\"]],\"sequential\":[[0.0,\"#0d0887\"],[0.1111111111111111,\"#46039f\"],[0.2222222222222222,\"#7201a8\"],[0.3333333333333333,\"#9c179e\"],[0.4444444444444444,\"#bd3786\"],[0.5555555555555556,\"#d8576b\"],[0.6666666666666666,\"#ed7953\"],[0.7777777777777778,\"#fb9f3a\"],[0.8888888888888888,\"#fdca26\"],[1.0,\"#f0f921\"]],\"sequentialminus\":[[0.0,\"#0d0887\"],[0.1111111111111111,\"#46039f\"],[0.2222222222222222,\"#7201a8\"],[0.3333333333333333,\"#9c179e\"],[0.4444444444444444,\"#bd3786\"],[0.5555555555555556,\"#d8576b\"],[0.6666666666666666,\"#ed7953\"],[0.7777777777777778,\"#fb9f3a\"],[0.8888888888888888,\"#fdca26\"],[1.0,\"#f0f921\"]]},\"colorway\":[\"#636efa\",\"#EF553B\",\"#00cc96\",\"#ab63fa\",\"#FFA15A\",\"#19d3f3\",\"#FF6692\",\"#B6E880\",\"#FF97FF\",\"#FECB52\"],\"font\":{\"color\":\"#2a3f5f\"},\"geo\":{\"bgcolor\":\"white\",\"lakecolor\":\"white\",\"landcolor\":\"#E5ECF6\",\"showlakes\":true,\"showland\":true,\"subunitcolor\":\"white\"},\"hoverlabel\":{\"align\":\"left\"},\"hovermode\":\"closest\",\"mapbox\":{\"style\":\"light\"},\"paper_bgcolor\":\"white\",\"plot_bgcolor\":\"#E5ECF6\",\"polar\":{\"angularaxis\":{\"gridcolor\":\"white\",\"linecolor\":\"white\",\"ticks\":\"\"},\"bgcolor\":\"#E5ECF6\",\"radialaxis\":{\"gridcolor\":\"white\",\"linecolor\":\"white\",\"ticks\":\"\"}},\"scene\":{\"xaxis\":{\"backgroundcolor\":\"#E5ECF6\",\"gridcolor\":\"white\",\"gridwidth\":2,\"linecolor\":\"white\",\"showbackground\":true,\"ticks\":\"\",\"zerolinecolor\":\"white\"},\"yaxis\":{\"backgroundcolor\":\"#E5ECF6\",\"gridcolor\":\"white\",\"gridwidth\":2,\"linecolor\":\"white\",\"showbackground\":true,\"ticks\":\"\",\"zerolinecolor\":\"white\"},\"zaxis\":{\"backgroundcolor\":\"#E5ECF6\",\"gridcolor\":\"white\",\"gridwidth\":2,\"linecolor\":\"white\",\"showbackground\":true,\"ticks\":\"\",\"zerolinecolor\":\"white\"}},\"shapedefaults\":{\"line\":{\"color\":\"#2a3f5f\"}},\"ternary\":{\"aaxis\":{\"gridcolor\":\"white\",\"linecolor\":\"white\",\"ticks\":\"\"},\"baxis\":{\"gridcolor\":\"white\",\"linecolor\":\"white\",\"ticks\":\"\"},\"bgcolor\":\"#E5ECF6\",\"caxis\":{\"gridcolor\":\"white\",\"linecolor\":\"white\",\"ticks\":\"\"}},\"title\":{\"x\":0.05},\"xaxis\":{\"automargin\":true,\"gridcolor\":\"white\",\"linecolor\":\"white\",\"ticks\":\"\",\"title\":{\"standoff\":15},\"zerolinecolor\":\"white\",\"zerolinewidth\":2},\"yaxis\":{\"automargin\":true,\"gridcolor\":\"white\",\"linecolor\":\"white\",\"ticks\":\"\",\"title\":{\"standoff\":15},\"zerolinecolor\":\"white\",\"zerolinewidth\":2}}},\"xaxis\":{\"anchor\":\"y\",\"domain\":[0.0,1.0],\"title\":{\"text\":\"value\"}},\"yaxis\":{\"anchor\":\"x\",\"domain\":[0.0,1.0],\"title\":{\"text\":\"count\"}},\"legend\":{\"title\":{\"text\":\"variable\"},\"tracegroupgap\":0},\"margin\":{\"t\":60},\"barmode\":\"relative\"},                        {\"responsive\": true}                    ).then(function(){\n",
              "                            \n",
              "var gd = document.getElementById('632d66d7-c8b5-44ba-b244-b631a189eaaa');\n",
              "var x = new MutationObserver(function (mutations, observer) {{\n",
              "        var display = window.getComputedStyle(gd).display;\n",
              "        if (!display || display === 'none') {{\n",
              "            console.log([gd, 'removed!']);\n",
              "            Plotly.purge(gd);\n",
              "            observer.disconnect();\n",
              "        }}\n",
              "}});\n",
              "\n",
              "// Listen for the removal of the full notebook cells\n",
              "var notebookContainer = gd.closest('#notebook-container');\n",
              "if (notebookContainer) {{\n",
              "    x.observe(notebookContainer, {childList: true});\n",
              "}}\n",
              "\n",
              "// Listen for the clearing of the current output cell\n",
              "var outputEl = gd.closest('.output');\n",
              "if (outputEl) {{\n",
              "    x.observe(outputEl, {childList: true});\n",
              "}}\n",
              "\n",
              "                        })                };                            </script>        </div>\n",
              "</body>\n",
              "</html>"
            ]
          },
          "metadata": {}
        }
      ]
    },
    {
      "cell_type": "markdown",
      "source": [
        "## Section 3.4 Vacuum Perception"
      ],
      "metadata": {
        "id": "FyreH2MKtwqC"
      }
    },
    {
      "cell_type": "markdown",
      "source": [
        "#### REPORT QUESTIONS\n",
        "\n",
        "\n",
        "\n",
        "1.   Calculate the size of the table needed to enumerate the posterior over the states S the robot dynamic Bayes net from the previous section, given the value of all observations O and actions A.\n",
        "2.   Given the DBN from the textbook,\n",
        "\n",
        "*   If the actions and the measurements are known, how does the factor graph look like?\n",
        "*   If the actions and the measurements are unknown, how does the factor graph look like?\n",
        "*   If the actions and the measurements are unknown, but the trajectory of the states is known, how does the factor graph look like? Do you observe any direct findings from the factor graph?\n",
        "\n",
        "3.  Please plot the graph from the coding section (3.4) which compares the time complexity of Naïve MPE implementations vs GTSAM implementation \n",
        "4.  What is the time complexity of MPE when enumerating over an N different number of states? \n",
        "Choose from the option\n",
        "\n",
        "  ● Linear(ax+c)      ● Cubic(ax3+c)     ● Quintic(ax5+c)   ● Exponential(ex+c) \n",
        "\n",
        "\n",
        "\n",
        "\n",
        "\n"
      ],
      "metadata": {
        "id": "GoMn8PStc8-d"
      }
    },
    {
      "cell_type": "markdown",
      "source": [
        "### *CODING TIME*\n",
        "\n",
        "This part has two components, understanding the code and implementing the code.\n",
        "\n",
        "In this part we will be implementing **MPE**.\n",
        "We will use the DBN from 3.3 coding part to start our implementation here.\n",
        "\n",
        "[Textbook  Section 3.4](https://www.roboticsbook.org/S34_vacuum_perception.html) is your best friend."
      ],
      "metadata": {
        "id": "WXVAei3ea4xs"
      }
    },
    {
      "cell_type": "code",
      "source": [
        "def create_factor_graph(N):\n",
        "  priors = get_prior()\n",
        "  X = create_state_series(\"X\", range(1,N+1))\n",
        "  A = create_action_series(\"A\", range(1,N))\n",
        "  Z = create_sensor_series(\"Z\", range(1,N+1))\n",
        "  action_assignment = VARIABLES.assignment(create_custom_action_sequence(A, N-1))\n",
        "\n",
        "  graph = gtsam.DiscreteFactorGraph()\n",
        "  graph.add(X[1], \"1 1 1 1 1\") # \\phi(X_1) = P(X_1)\n",
        "  for k in range(1,N):\n",
        "      conditional = gtsam.DiscreteConditional(X[k+1], [X[k], A[k]], action_spec)\n",
        "      conditional_a_k = conditional.choose(action_assignment) # \\phi(X,X+) = P(X+|X,A=a)\n",
        "      graph.push_back(conditional_a_k)\n",
        "  for k, measurement in enumerate(LIGHT_LEVELS):\n",
        "      conditional = gtsam.DiscreteConditional(Z[k+1], [X[k+1]], sensor_spec)\n",
        "      z_k = LIGHT_LEVELS.index(measurement)\n",
        "      factor = conditional.likelihood(z_k) # \\phi(X) = P(Z=z|X)\n",
        "      graph.push_back(factor)\n",
        "  return graph,X"
      ],
      "metadata": {
        "id": "VpUk2TWiWF-s"
      },
      "execution_count": null,
      "outputs": []
    },
    {
      "cell_type": "code",
      "source": [
        "graph,_ = create_factor_graph(3)\n",
        "show(graph)"
      ],
      "metadata": {
        "id": "oeUi8c1B1k0j",
        "colab": {
          "base_uri": "https://localhost:8080/",
          "height": 133
        },
        "outputId": "d8de43da-7b4c-4570-ffc3-073891be9ea6"
      },
      "execution_count": null,
      "outputs": [
        {
          "output_type": "execute_result",
          "data": {
            "text/plain": [
              "<gtbook.display.show at 0x7fd07920a3d0>"
            ],
            "image/svg+xml": "<?xml version=\"1.0\" encoding=\"UTF-8\" standalone=\"no\"?>\n<!DOCTYPE svg PUBLIC \"-//W3C//DTD SVG 1.1//EN\"\n \"http://www.w3.org/Graphics/SVG/1.1/DTD/svg11.dtd\">\n<!-- Generated by graphviz version 2.40.1 (20161225.0304)\n -->\n<!-- Title: %3 Pages: 1 -->\n<svg width=\"206pt\" height=\"84pt\"\n viewBox=\"0.00 0.00 206.00 83.60\" xmlns=\"http://www.w3.org/2000/svg\" xmlns:xlink=\"http://www.w3.org/1999/xlink\">\n<g id=\"graph0\" class=\"graph\" transform=\"scale(1 1) rotate(0) translate(4 79.6)\">\n<title>%3</title>\n<polygon fill=\"#ffffff\" stroke=\"transparent\" points=\"-4,4 -4,-79.6 202,-79.6 202,4 -4,4\"/>\n<!-- varX1 -->\n<g id=\"node1\" class=\"node\">\n<title>varX1</title>\n<ellipse fill=\"none\" stroke=\"#000000\" cx=\"27\" cy=\"-57.6\" rx=\"27\" ry=\"18\"/>\n<text text-anchor=\"middle\" x=\"27\" y=\"-53.9\" font-family=\"Times,serif\" font-size=\"14.00\" fill=\"#000000\">X1</text>\n</g>\n<!-- factor0 -->\n<g id=\"node4\" class=\"node\">\n<title>factor0</title>\n<ellipse fill=\"#000000\" stroke=\"#000000\" cx=\"16\" cy=\"-1.8\" rx=\"1.8\" ry=\"1.8\"/>\n</g>\n<!-- varX1&#45;&#45;factor0 -->\n<g id=\"edge1\" class=\"edge\">\n<title>varX1&#45;&#45;factor0</title>\n<path fill=\"none\" stroke=\"#000000\" d=\"M23.459,-39.6374C20.796,-26.1289 17.4283,-9.0453 16.3493,-3.5719\"/>\n</g>\n<!-- factor1 -->\n<g id=\"node5\" class=\"node\">\n<title>factor1</title>\n<ellipse fill=\"#000000\" stroke=\"#000000\" cx=\"69\" cy=\"-1.8\" rx=\"1.8\" ry=\"1.8\"/>\n</g>\n<!-- varX1&#45;&#45;factor1 -->\n<g id=\"edge3\" class=\"edge\">\n<title>varX1&#45;&#45;factor1</title>\n<path fill=\"none\" stroke=\"#000000\" d=\"M39.1481,-41.4603C49.6142,-27.5554 63.6707,-8.8803 67.8079,-3.3838\"/>\n</g>\n<!-- factor3 -->\n<g id=\"node7\" class=\"node\">\n<title>factor3</title>\n<ellipse fill=\"#000000\" stroke=\"#000000\" cx=\"38\" cy=\"-1.8\" rx=\"1.8\" ry=\"1.8\"/>\n</g>\n<!-- varX1&#45;&#45;factor3 -->\n<g id=\"edge6\" class=\"edge\">\n<title>varX1&#45;&#45;factor3</title>\n<path fill=\"none\" stroke=\"#000000\" d=\"M30.541,-39.6374C33.204,-26.1289 36.5717,-9.0453 37.6507,-3.5719\"/>\n</g>\n<!-- varX2 -->\n<g id=\"node2\" class=\"node\">\n<title>varX2</title>\n<ellipse fill=\"none\" stroke=\"#000000\" cx=\"99\" cy=\"-57.6\" rx=\"27\" ry=\"18\"/>\n<text text-anchor=\"middle\" x=\"99\" y=\"-53.9\" font-family=\"Times,serif\" font-size=\"14.00\" fill=\"#000000\">X2</text>\n</g>\n<!-- varX2&#45;&#45;factor1 -->\n<g id=\"edge2\" class=\"edge\">\n<title>varX2&#45;&#45;factor1</title>\n<path fill=\"none\" stroke=\"#000000\" d=\"M89.836,-40.555C82.5299,-26.9656 73.0354,-9.3058 69.9875,-3.6367\"/>\n</g>\n<!-- factor2 -->\n<g id=\"node6\" class=\"node\">\n<title>factor2</title>\n<ellipse fill=\"#000000\" stroke=\"#000000\" cx=\"135\" cy=\"-1.8\" rx=\"1.8\" ry=\"1.8\"/>\n</g>\n<!-- varX2&#45;&#45;factor2 -->\n<g id=\"edge5\" class=\"edge\">\n<title>varX2&#45;&#45;factor2</title>\n<path fill=\"none\" stroke=\"#000000\" d=\"M109.8012,-40.8582C118.7483,-26.9901 130.5366,-8.7183 134.0019,-3.347\"/>\n</g>\n<!-- factor4 -->\n<g id=\"node8\" class=\"node\">\n<title>factor4</title>\n<ellipse fill=\"#000000\" stroke=\"#000000\" cx=\"99\" cy=\"-1.8\" rx=\"1.8\" ry=\"1.8\"/>\n</g>\n<!-- varX2&#45;&#45;factor4 -->\n<g id=\"edge7\" class=\"edge\">\n<title>varX2&#45;&#45;factor4</title>\n<path fill=\"none\" stroke=\"#000000\" d=\"M99,-39.329C99,-26.1067 99,-9.5956 99,-3.8688\"/>\n</g>\n<!-- varX3 -->\n<g id=\"node3\" class=\"node\">\n<title>varX3</title>\n<ellipse fill=\"none\" stroke=\"#000000\" cx=\"171\" cy=\"-57.6\" rx=\"27\" ry=\"18\"/>\n<text text-anchor=\"middle\" x=\"171\" y=\"-53.9\" font-family=\"Times,serif\" font-size=\"14.00\" fill=\"#000000\">X3</text>\n</g>\n<!-- varX3&#45;&#45;factor2 -->\n<g id=\"edge4\" class=\"edge\">\n<title>varX3&#45;&#45;factor2</title>\n<path fill=\"none\" stroke=\"#000000\" d=\"M160.1988,-40.8582C151.2517,-26.9901 139.4634,-8.7183 135.9981,-3.347\"/>\n</g>\n<!-- factor5 -->\n<g id=\"node9\" class=\"node\">\n<title>factor5</title>\n<ellipse fill=\"#000000\" stroke=\"#000000\" cx=\"171\" cy=\"-1.8\" rx=\"1.8\" ry=\"1.8\"/>\n</g>\n<!-- varX3&#45;&#45;factor5 -->\n<g id=\"edge8\" class=\"edge\">\n<title>varX3&#45;&#45;factor5</title>\n<path fill=\"none\" stroke=\"#000000\" d=\"M171,-39.329C171,-26.1067 171,-9.5956 171,-3.8688\"/>\n</g>\n</g>\n</svg>\n"
          },
          "metadata": {},
          "execution_count": 21
        }
      ]
    },
    {
      "cell_type": "code",
      "source": [
        "def generateAllTrajactories(n, X, arr, i,trajectories_list):\n",
        "    if i == n:\n",
        "        trajectories_list.append(VARIABLES.assignment({X[k+1]:arr[k] for k in range(n)}))\n",
        "        return\n",
        "\n",
        "    for elem in range(5):\n",
        "      arr[i] = ROOMS[elem]\n",
        "      generateAllTrajactories(n, X, arr, i + 1,trajectories_list)\n",
        "\n",
        "\n",
        "#TODO 11\n",
        "def naive_MPE(graph, N, X):\n",
        "  \"\"\"\n",
        "  Implement the function to return the value for maximum probable explanation and its corresponding state trajectory\n",
        "\n",
        "    Parameters:\n",
        "        graph (gtsam.DiscreteFactorGraph): the factor graph used to find mpe\n",
        "        N: number of states\n",
        "        X: states dictionary\n",
        "\n",
        "    Returns:\n",
        "        mpe_value (float): the value for maximum probable explanation\n",
        "        mpe_trajectory (gtsam.DiscreteValues): the DiscreteValues variable that contains the key-value pair with the key being the\n",
        "                                                (room) state variable and the value being its corresponding value\n",
        "  \"\"\"\n",
        "  mpe_value = 0\n",
        "  mpe_trajectory = None\n",
        "  ###############################################################################\n",
        "  #                             START OF YOUR CODE                              #\n",
        "  ############################################################################### \n",
        "  noneList = [None] * N\n",
        "  trajectory = []\n",
        "  generateAllTrajactories(N, X, noneList, 0, trajectory)\n",
        "  for k in range(len(trajectory)):\n",
        "    temp = graph(trajectory[k])\n",
        "    if temp > mpe_value:\n",
        "      mpe_trajectory = trajectory[k]\n",
        "      mpe_value = temp\n",
        "  ###############################################################################\n",
        "  #                              END OF YOUR CODE                               #\n",
        "  ###############################################################################    \n",
        "  return mpe_value, mpe_trajectory"
      ],
      "metadata": {
        "id": "M2Pdzzj8ScW-"
      },
      "execution_count": null,
      "outputs": []
    },
    {
      "cell_type": "code",
      "source": [
        "N = 3\n",
        "cur_graph,cur_X = create_factor_graph(N)\n",
        "mpe_value,mpe_trajectory = naive_MPE(cur_graph,N,cur_X)\n",
        "print(mpe_trajectory)\n",
        "print(mpe_value)"
      ],
      "metadata": {
        "id": "PyN3WGzbqFx6",
        "colab": {
          "base_uri": "https://localhost:8080/"
        },
        "outputId": "9713176a-2149-4c2b-aae4-b548a2962b45"
      },
      "execution_count": null,
      "outputs": [
        {
          "output_type": "stream",
          "name": "stdout",
          "text": [
            "DiscreteValues{6341068275337658369: 3, 6341068275337658370: 2, 6341068275337658371: 2}\n",
            "0.055999999999999994\n"
          ]
        }
      ]
    },
    {
      "cell_type": "code",
      "source": [
        "#TODO 12\n",
        "def GTSAM_MPE(graph):\n",
        "  \"\"\"\n",
        "  Implement the function to return the mpe trajectory using gtsam\n",
        "\n",
        "      Parameters:\n",
        "          graph (gtsam.DiscreteFactorGraph): the factor graph used to find mpe\n",
        "\n",
        "      Returns:\n",
        "          mpe_trajectory (gtsam.DiscreteValues): the DiscreteValues variable that contains the key-value pair with the key being the\n",
        "                                                 (room) state variable and the value being its corresponding value\n",
        "  \"\"\"\n",
        "  mpe = None\n",
        "  ###############################################################################\n",
        "  #                             START OF YOUR CODE                              #\n",
        "  ############################################################################### \n",
        "  mpe = graph.optimize()\n",
        "  ###############################################################################\n",
        "  #                              END OF YOUR CODE                               #\n",
        "  ###############################################################################\n",
        "  return mpe"
      ],
      "metadata": {
        "id": "_Vo6ZR5SSd2q"
      },
      "execution_count": null,
      "outputs": []
    },
    {
      "cell_type": "code",
      "source": [
        "N = 4\n",
        "cur_graph,_ = create_factor_graph(N)\n",
        "mpe_trajectory = GTSAM_MPE(cur_graph)\n",
        "print(mpe_trajectory)"
      ],
      "metadata": {
        "id": "jA1sCIgDyPqu",
        "colab": {
          "base_uri": "https://localhost:8080/"
        },
        "outputId": "133141a1-7c3e-4e6d-f4ad-16a4d2afd9b6"
      },
      "execution_count": null,
      "outputs": [
        {
          "output_type": "stream",
          "name": "stdout",
          "text": [
            "DiscreteValues{6341068275337658369: 3, 6341068275337658370: 2, 6341068275337658371: 2, 6341068275337658372: 2}\n"
          ]
        }
      ]
    },
    {
      "cell_type": "markdown",
      "source": [
        "Try to modify the Naive MPE and GTSAM MPE code to run for different values of N and get execution time.\n",
        "This is an opportunity to explore packages outside of what we have provided. Feel free to import external packages like [time](https://docs.python.org/3/library/time.html#time.time) which makes it easy to get the execution time. \n",
        "\n",
        "To plot the graph, use values of N from 3 to 9"
      ],
      "metadata": {
        "id": "iAH3y9Yf2vLT"
      }
    },
    {
      "cell_type": "code",
      "source": [
        "#TODO 13\n",
        "def plot_time_complexity():\n",
        "  \"\"\"\n",
        "  Plot the graph to compare the execution time between the naive mpe approach and the gtsam approach\n",
        "  Check out https://plotly.com/python/plotly-express/ for more info about using plotly.\n",
        "\n",
        "  X-axis should the N (number states) and Y-axis should be execution time\n",
        "  \"\"\"\n",
        "  figure = None\n",
        "  ###############################################################################\n",
        "  #                             START OF YOUR CODE                              #\n",
        "  ############################################################################### \n",
        "  naiveRuntimes = []\n",
        "  SAMRuntimes = []\n",
        "\n",
        "  for k in range(3,10):\n",
        "    startNaive = time.time()\n",
        "    naive_MPE(cur_graph, N, X)\n",
        "    endNaive = time.time()\n",
        "    naiveRuntime = endNaive - startNaive\n",
        "    naiveRuntimes.append(naiveRuntime)\n",
        "\n",
        "    startSAM = time.time()\n",
        "    GTSAM_MPE(cur_graph)\n",
        "    endSAM = time.time()\n",
        "    SAMRuntime = endSAM - startSAM\n",
        "    SAMRuntimes.append(SAMRuntime)\n",
        "\n",
        "  graphDataframe = {'Naive': naiveRuntimes, 'SAM': SAMRuntimes}\n",
        "  graphDataframe = pd.DataFrame(data=graphDataframe, index=[3,4,5,6,7,8,9])\n",
        "  print(graphDataframe)\n",
        "  figure = px.scatter(graphDataframe)\n",
        "  ###############################################################################\n",
        "  #                              END OF YOUR CODE                               #\n",
        "  ###############################################################################\n",
        "  return figure\n",
        "\n"
      ],
      "metadata": {
        "id": "NmnxPjtDSmmh"
      },
      "execution_count": null,
      "outputs": []
    },
    {
      "cell_type": "code",
      "source": [
        "fig = plot_time_complexity()\n",
        "fig.show()"
      ],
      "metadata": {
        "id": "6QFGgBK1cpVu",
        "colab": {
          "base_uri": "https://localhost:8080/",
          "height": 681
        },
        "outputId": "d826f365-495e-430f-f71e-d86aa5adffa9"
      },
      "execution_count": null,
      "outputs": [
        {
          "output_type": "stream",
          "name": "stdout",
          "text": [
            "      Naive       SAM\n",
            "3  0.008875  0.000149\n",
            "4  0.009110  0.000134\n",
            "5  0.005287  0.000094\n",
            "6  0.004625  0.000083\n",
            "7  0.004574  0.000060\n",
            "8  0.005570  0.000079\n",
            "9  0.005083  0.000077\n"
          ]
        },
        {
          "output_type": "display_data",
          "data": {
            "text/html": [
              "<html>\n",
              "<head><meta charset=\"utf-8\" /></head>\n",
              "<body>\n",
              "    <div>            <script src=\"https://cdnjs.cloudflare.com/ajax/libs/mathjax/2.7.5/MathJax.js?config=TeX-AMS-MML_SVG\"></script><script type=\"text/javascript\">if (window.MathJax) {MathJax.Hub.Config({SVG: {font: \"STIX-Web\"}});}</script>                <script type=\"text/javascript\">window.PlotlyConfig = {MathJaxConfig: 'local'};</script>\n",
              "        <script src=\"https://cdn.plot.ly/plotly-2.8.3.min.js\"></script>                <div id=\"75e2f34a-8b4e-436e-b875-4895d5ff8f82\" class=\"plotly-graph-div\" style=\"height:525px; width:100%;\"></div>            <script type=\"text/javascript\">                                    window.PLOTLYENV=window.PLOTLYENV || {};                                    if (document.getElementById(\"75e2f34a-8b4e-436e-b875-4895d5ff8f82\")) {                    Plotly.newPlot(                        \"75e2f34a-8b4e-436e-b875-4895d5ff8f82\",                        [{\"hovertemplate\":\"variable=Naive<br>index=%{x}<br>value=%{y}<extra></extra>\",\"legendgroup\":\"Naive\",\"marker\":{\"color\":\"#636efa\",\"symbol\":\"circle\"},\"mode\":\"markers\",\"name\":\"Naive\",\"orientation\":\"v\",\"showlegend\":true,\"x\":[3,4,5,6,7,8,9],\"xaxis\":\"x\",\"y\":[0.008874654769897461,0.009109973907470703,0.0052874088287353516,0.0046253204345703125,0.004574298858642578,0.005570173263549805,0.005082607269287109],\"yaxis\":\"y\",\"type\":\"scatter\"},{\"hovertemplate\":\"variable=SAM<br>index=%{x}<br>value=%{y}<extra></extra>\",\"legendgroup\":\"SAM\",\"marker\":{\"color\":\"#EF553B\",\"symbol\":\"circle\"},\"mode\":\"markers\",\"name\":\"SAM\",\"orientation\":\"v\",\"showlegend\":true,\"x\":[3,4,5,6,7,8,9],\"xaxis\":\"x\",\"y\":[0.000148773193359375,0.0001342296600341797,9.417533874511719e-05,8.273124694824219e-05,6.008148193359375e-05,7.867813110351562e-05,7.724761962890625e-05],\"yaxis\":\"y\",\"type\":\"scatter\"}],                        {\"template\":{\"data\":{\"bar\":[{\"error_x\":{\"color\":\"#2a3f5f\"},\"error_y\":{\"color\":\"#2a3f5f\"},\"marker\":{\"line\":{\"color\":\"#E5ECF6\",\"width\":0.5},\"pattern\":{\"fillmode\":\"overlay\",\"size\":10,\"solidity\":0.2}},\"type\":\"bar\"}],\"barpolar\":[{\"marker\":{\"line\":{\"color\":\"#E5ECF6\",\"width\":0.5},\"pattern\":{\"fillmode\":\"overlay\",\"size\":10,\"solidity\":0.2}},\"type\":\"barpolar\"}],\"carpet\":[{\"aaxis\":{\"endlinecolor\":\"#2a3f5f\",\"gridcolor\":\"white\",\"linecolor\":\"white\",\"minorgridcolor\":\"white\",\"startlinecolor\":\"#2a3f5f\"},\"baxis\":{\"endlinecolor\":\"#2a3f5f\",\"gridcolor\":\"white\",\"linecolor\":\"white\",\"minorgridcolor\":\"white\",\"startlinecolor\":\"#2a3f5f\"},\"type\":\"carpet\"}],\"choropleth\":[{\"colorbar\":{\"outlinewidth\":0,\"ticks\":\"\"},\"type\":\"choropleth\"}],\"contour\":[{\"colorbar\":{\"outlinewidth\":0,\"ticks\":\"\"},\"colorscale\":[[0.0,\"#0d0887\"],[0.1111111111111111,\"#46039f\"],[0.2222222222222222,\"#7201a8\"],[0.3333333333333333,\"#9c179e\"],[0.4444444444444444,\"#bd3786\"],[0.5555555555555556,\"#d8576b\"],[0.6666666666666666,\"#ed7953\"],[0.7777777777777778,\"#fb9f3a\"],[0.8888888888888888,\"#fdca26\"],[1.0,\"#f0f921\"]],\"type\":\"contour\"}],\"contourcarpet\":[{\"colorbar\":{\"outlinewidth\":0,\"ticks\":\"\"},\"type\":\"contourcarpet\"}],\"heatmap\":[{\"colorbar\":{\"outlinewidth\":0,\"ticks\":\"\"},\"colorscale\":[[0.0,\"#0d0887\"],[0.1111111111111111,\"#46039f\"],[0.2222222222222222,\"#7201a8\"],[0.3333333333333333,\"#9c179e\"],[0.4444444444444444,\"#bd3786\"],[0.5555555555555556,\"#d8576b\"],[0.6666666666666666,\"#ed7953\"],[0.7777777777777778,\"#fb9f3a\"],[0.8888888888888888,\"#fdca26\"],[1.0,\"#f0f921\"]],\"type\":\"heatmap\"}],\"heatmapgl\":[{\"colorbar\":{\"outlinewidth\":0,\"ticks\":\"\"},\"colorscale\":[[0.0,\"#0d0887\"],[0.1111111111111111,\"#46039f\"],[0.2222222222222222,\"#7201a8\"],[0.3333333333333333,\"#9c179e\"],[0.4444444444444444,\"#bd3786\"],[0.5555555555555556,\"#d8576b\"],[0.6666666666666666,\"#ed7953\"],[0.7777777777777778,\"#fb9f3a\"],[0.8888888888888888,\"#fdca26\"],[1.0,\"#f0f921\"]],\"type\":\"heatmapgl\"}],\"histogram\":[{\"marker\":{\"pattern\":{\"fillmode\":\"overlay\",\"size\":10,\"solidity\":0.2}},\"type\":\"histogram\"}],\"histogram2d\":[{\"colorbar\":{\"outlinewidth\":0,\"ticks\":\"\"},\"colorscale\":[[0.0,\"#0d0887\"],[0.1111111111111111,\"#46039f\"],[0.2222222222222222,\"#7201a8\"],[0.3333333333333333,\"#9c179e\"],[0.4444444444444444,\"#bd3786\"],[0.5555555555555556,\"#d8576b\"],[0.6666666666666666,\"#ed7953\"],[0.7777777777777778,\"#fb9f3a\"],[0.8888888888888888,\"#fdca26\"],[1.0,\"#f0f921\"]],\"type\":\"histogram2d\"}],\"histogram2dcontour\":[{\"colorbar\":{\"outlinewidth\":0,\"ticks\":\"\"},\"colorscale\":[[0.0,\"#0d0887\"],[0.1111111111111111,\"#46039f\"],[0.2222222222222222,\"#7201a8\"],[0.3333333333333333,\"#9c179e\"],[0.4444444444444444,\"#bd3786\"],[0.5555555555555556,\"#d8576b\"],[0.6666666666666666,\"#ed7953\"],[0.7777777777777778,\"#fb9f3a\"],[0.8888888888888888,\"#fdca26\"],[1.0,\"#f0f921\"]],\"type\":\"histogram2dcontour\"}],\"mesh3d\":[{\"colorbar\":{\"outlinewidth\":0,\"ticks\":\"\"},\"type\":\"mesh3d\"}],\"parcoords\":[{\"line\":{\"colorbar\":{\"outlinewidth\":0,\"ticks\":\"\"}},\"type\":\"parcoords\"}],\"pie\":[{\"automargin\":true,\"type\":\"pie\"}],\"scatter\":[{\"marker\":{\"colorbar\":{\"outlinewidth\":0,\"ticks\":\"\"}},\"type\":\"scatter\"}],\"scatter3d\":[{\"line\":{\"colorbar\":{\"outlinewidth\":0,\"ticks\":\"\"}},\"marker\":{\"colorbar\":{\"outlinewidth\":0,\"ticks\":\"\"}},\"type\":\"scatter3d\"}],\"scattercarpet\":[{\"marker\":{\"colorbar\":{\"outlinewidth\":0,\"ticks\":\"\"}},\"type\":\"scattercarpet\"}],\"scattergeo\":[{\"marker\":{\"colorbar\":{\"outlinewidth\":0,\"ticks\":\"\"}},\"type\":\"scattergeo\"}],\"scattergl\":[{\"marker\":{\"colorbar\":{\"outlinewidth\":0,\"ticks\":\"\"}},\"type\":\"scattergl\"}],\"scattermapbox\":[{\"marker\":{\"colorbar\":{\"outlinewidth\":0,\"ticks\":\"\"}},\"type\":\"scattermapbox\"}],\"scatterpolar\":[{\"marker\":{\"colorbar\":{\"outlinewidth\":0,\"ticks\":\"\"}},\"type\":\"scatterpolar\"}],\"scatterpolargl\":[{\"marker\":{\"colorbar\":{\"outlinewidth\":0,\"ticks\":\"\"}},\"type\":\"scatterpolargl\"}],\"scatterternary\":[{\"marker\":{\"colorbar\":{\"outlinewidth\":0,\"ticks\":\"\"}},\"type\":\"scatterternary\"}],\"surface\":[{\"colorbar\":{\"outlinewidth\":0,\"ticks\":\"\"},\"colorscale\":[[0.0,\"#0d0887\"],[0.1111111111111111,\"#46039f\"],[0.2222222222222222,\"#7201a8\"],[0.3333333333333333,\"#9c179e\"],[0.4444444444444444,\"#bd3786\"],[0.5555555555555556,\"#d8576b\"],[0.6666666666666666,\"#ed7953\"],[0.7777777777777778,\"#fb9f3a\"],[0.8888888888888888,\"#fdca26\"],[1.0,\"#f0f921\"]],\"type\":\"surface\"}],\"table\":[{\"cells\":{\"fill\":{\"color\":\"#EBF0F8\"},\"line\":{\"color\":\"white\"}},\"header\":{\"fill\":{\"color\":\"#C8D4E3\"},\"line\":{\"color\":\"white\"}},\"type\":\"table\"}]},\"layout\":{\"annotationdefaults\":{\"arrowcolor\":\"#2a3f5f\",\"arrowhead\":0,\"arrowwidth\":1},\"autotypenumbers\":\"strict\",\"coloraxis\":{\"colorbar\":{\"outlinewidth\":0,\"ticks\":\"\"}},\"colorscale\":{\"diverging\":[[0,\"#8e0152\"],[0.1,\"#c51b7d\"],[0.2,\"#de77ae\"],[0.3,\"#f1b6da\"],[0.4,\"#fde0ef\"],[0.5,\"#f7f7f7\"],[0.6,\"#e6f5d0\"],[0.7,\"#b8e186\"],[0.8,\"#7fbc41\"],[0.9,\"#4d9221\"],[1,\"#276419\"]],\"sequential\":[[0.0,\"#0d0887\"],[0.1111111111111111,\"#46039f\"],[0.2222222222222222,\"#7201a8\"],[0.3333333333333333,\"#9c179e\"],[0.4444444444444444,\"#bd3786\"],[0.5555555555555556,\"#d8576b\"],[0.6666666666666666,\"#ed7953\"],[0.7777777777777778,\"#fb9f3a\"],[0.8888888888888888,\"#fdca26\"],[1.0,\"#f0f921\"]],\"sequentialminus\":[[0.0,\"#0d0887\"],[0.1111111111111111,\"#46039f\"],[0.2222222222222222,\"#7201a8\"],[0.3333333333333333,\"#9c179e\"],[0.4444444444444444,\"#bd3786\"],[0.5555555555555556,\"#d8576b\"],[0.6666666666666666,\"#ed7953\"],[0.7777777777777778,\"#fb9f3a\"],[0.8888888888888888,\"#fdca26\"],[1.0,\"#f0f921\"]]},\"colorway\":[\"#636efa\",\"#EF553B\",\"#00cc96\",\"#ab63fa\",\"#FFA15A\",\"#19d3f3\",\"#FF6692\",\"#B6E880\",\"#FF97FF\",\"#FECB52\"],\"font\":{\"color\":\"#2a3f5f\"},\"geo\":{\"bgcolor\":\"white\",\"lakecolor\":\"white\",\"landcolor\":\"#E5ECF6\",\"showlakes\":true,\"showland\":true,\"subunitcolor\":\"white\"},\"hoverlabel\":{\"align\":\"left\"},\"hovermode\":\"closest\",\"mapbox\":{\"style\":\"light\"},\"paper_bgcolor\":\"white\",\"plot_bgcolor\":\"#E5ECF6\",\"polar\":{\"angularaxis\":{\"gridcolor\":\"white\",\"linecolor\":\"white\",\"ticks\":\"\"},\"bgcolor\":\"#E5ECF6\",\"radialaxis\":{\"gridcolor\":\"white\",\"linecolor\":\"white\",\"ticks\":\"\"}},\"scene\":{\"xaxis\":{\"backgroundcolor\":\"#E5ECF6\",\"gridcolor\":\"white\",\"gridwidth\":2,\"linecolor\":\"white\",\"showbackground\":true,\"ticks\":\"\",\"zerolinecolor\":\"white\"},\"yaxis\":{\"backgroundcolor\":\"#E5ECF6\",\"gridcolor\":\"white\",\"gridwidth\":2,\"linecolor\":\"white\",\"showbackground\":true,\"ticks\":\"\",\"zerolinecolor\":\"white\"},\"zaxis\":{\"backgroundcolor\":\"#E5ECF6\",\"gridcolor\":\"white\",\"gridwidth\":2,\"linecolor\":\"white\",\"showbackground\":true,\"ticks\":\"\",\"zerolinecolor\":\"white\"}},\"shapedefaults\":{\"line\":{\"color\":\"#2a3f5f\"}},\"ternary\":{\"aaxis\":{\"gridcolor\":\"white\",\"linecolor\":\"white\",\"ticks\":\"\"},\"baxis\":{\"gridcolor\":\"white\",\"linecolor\":\"white\",\"ticks\":\"\"},\"bgcolor\":\"#E5ECF6\",\"caxis\":{\"gridcolor\":\"white\",\"linecolor\":\"white\",\"ticks\":\"\"}},\"title\":{\"x\":0.05},\"xaxis\":{\"automargin\":true,\"gridcolor\":\"white\",\"linecolor\":\"white\",\"ticks\":\"\",\"title\":{\"standoff\":15},\"zerolinecolor\":\"white\",\"zerolinewidth\":2},\"yaxis\":{\"automargin\":true,\"gridcolor\":\"white\",\"linecolor\":\"white\",\"ticks\":\"\",\"title\":{\"standoff\":15},\"zerolinecolor\":\"white\",\"zerolinewidth\":2}}},\"xaxis\":{\"anchor\":\"y\",\"domain\":[0.0,1.0],\"title\":{\"text\":\"index\"}},\"yaxis\":{\"anchor\":\"x\",\"domain\":[0.0,1.0],\"title\":{\"text\":\"value\"}},\"legend\":{\"title\":{\"text\":\"variable\"},\"tracegroupgap\":0},\"margin\":{\"t\":60}},                        {\"responsive\": true}                    ).then(function(){\n",
              "                            \n",
              "var gd = document.getElementById('75e2f34a-8b4e-436e-b875-4895d5ff8f82');\n",
              "var x = new MutationObserver(function (mutations, observer) {{\n",
              "        var display = window.getComputedStyle(gd).display;\n",
              "        if (!display || display === 'none') {{\n",
              "            console.log([gd, 'removed!']);\n",
              "            Plotly.purge(gd);\n",
              "            observer.disconnect();\n",
              "        }}\n",
              "}});\n",
              "\n",
              "// Listen for the removal of the full notebook cells\n",
              "var notebookContainer = gd.closest('#notebook-container');\n",
              "if (notebookContainer) {{\n",
              "    x.observe(notebookContainer, {childList: true});\n",
              "}}\n",
              "\n",
              "// Listen for the clearing of the current output cell\n",
              "var outputEl = gd.closest('.output');\n",
              "if (outputEl) {{\n",
              "    x.observe(outputEl, {childList: true});\n",
              "}}\n",
              "\n",
              "                        })                };                            </script>        </div>\n",
              "</body>\n",
              "</html>"
            ]
          },
          "metadata": {}
        }
      ]
    },
    {
      "cell_type": "markdown",
      "source": [
        "## Section 3.5 Vacuum Decision"
      ],
      "metadata": {
        "id": "h2_AMGNFtwtF"
      }
    },
    {
      "cell_type": "markdown",
      "source": [
        "#### REPORT QUESTIONS\n",
        "\n",
        "\n",
        "\n",
        "1.  What is roll-out reward?\n",
        "2.   Compare two control tapes provided in the code. What is the optimal control tapes? Why?\n",
        "3. Based on the code(Policy Iteration function) you ran, what is the optimal policy?\n",
        "\n",
        "4. What's the objective of using policy iteration? What's the objective of using value iteration?\n"
      ],
      "metadata": {
        "id": "dw4YdrR4DlIj"
      }
    },
    {
      "cell_type": "markdown",
      "source": [
        "### *CODING TIME*\n",
        "\n",
        "In this part we will be implementing **Policy Iteration**.\n",
        "\n",
        "We will be working on creating a markov chain and run different methods of evaluating the series of actions. We will implement a method to find reward given a fixed control tape as well as a policy. Finally we will run Policy Iteration algorithm to find the optimal policy. \n",
        "\n",
        "[Textbook Section 3.5](https://www.roboticsbook.org/S35_vacuum_decision.html) is your best friend."
      ],
      "metadata": {
        "id": "F52BuaeAz4MV"
      }
    },
    {
      "cell_type": "code",
      "source": [
        "#TODO 14\n",
        "\n",
        "def create_markovChain(action_spec, N):\n",
        "  \"\"\"\n",
        "  Implement the function such that it returns a Markov Chain \n",
        "\n",
        "      Parameters:\n",
        "          N (int): number of states\n",
        "\n",
        "      Returns:\n",
        "          markovChain (gtsam.DiscreteBayesNet): a DiscreteBayeesNet that describes the Markov Chain \n",
        "  \"\"\"\n",
        "  X = VARIABLES.discrete_series(\"X\", range(1, N+1), ROOMS)\n",
        "  A = VARIABLES.discrete_series(\"A\", range(1, N), ACTIONS)\n",
        "  markovChain = gtsam.DiscreteBayesNet()\n",
        "  ###############################################################################\n",
        "  #                             START OF YOUR CODE                              #\n",
        "  ############################################################################### \n",
        "  for k in reversed(range(1,N)):\n",
        "    markovChain.add(X[k+1], [X[k], A[k]], action_spec)\n",
        "  ###############################################################################\n",
        "  #                              END OF YOUR CODE                               #\n",
        "  ###############################################################################\n",
        "  return markovChain"
      ],
      "metadata": {
        "id": "x-s7k62HWIwn"
      },
      "execution_count": null,
      "outputs": []
    },
    {
      "cell_type": "code",
      "source": [
        "N = 5\n",
        "action_spec = \"\"\"\n",
        "      1/0/0/0/0 2/8/0/0/0 1/0/0/0/0 2/0/0/8/0\n",
        "      8/2/0/0/0 0/1/0/0/0 0/1/0/0/0 2/0/0/0/8\n",
        "      0/0/1/0/0 0/0/2/8/0 0/0/1/0/0 0/0/1/0/0\n",
        "      0/0/8/2/0 0/0/0/2/8 8/0/0/2/0 0/0/0/1/0\n",
        "      0/0/0/8/2 0/0/0/0/1 0/8/0/0/2 0/0/0/0/1\n",
        "      \"\"\"\n",
        "markovChain = create_markovChain(action_spec, N)\n",
        "show(markovChain, hints={\"A\":2, \"X\":1, \"Z\":0}, boxes={A[k][0] for k in range(1,N)})\n"
      ],
      "metadata": {
        "id": "PGX4mq92hp_b",
        "colab": {
          "base_uri": "https://localhost:8080/",
          "height": 176
        },
        "outputId": "cbda956d-115c-4ed4-9db7-124da54cfb3f"
      },
      "execution_count": null,
      "outputs": [
        {
          "output_type": "execute_result",
          "data": {
            "text/plain": [
              "<gtbook.display.show at 0x7fd072b43990>"
            ],
            "image/svg+xml": "<?xml version=\"1.0\" encoding=\"UTF-8\" standalone=\"no\"?>\n<!DOCTYPE svg PUBLIC \"-//W3C//DTD SVG 1.1//EN\"\n \"http://www.w3.org/Graphics/SVG/1.1/DTD/svg11.dtd\">\n<!-- Generated by graphviz version 2.40.1 (20161225.0304)\n -->\n<!-- Title: %3 Pages: 1 -->\n<svg width=\"350pt\" height=\"116pt\"\n viewBox=\"0.00 0.00 350.00 116.00\" xmlns=\"http://www.w3.org/2000/svg\" xmlns:xlink=\"http://www.w3.org/1999/xlink\">\n<g id=\"graph0\" class=\"graph\" transform=\"scale(1 1) rotate(0) translate(4 112)\">\n<title>%3</title>\n<polygon fill=\"#ffffff\" stroke=\"transparent\" points=\"-4,4 -4,-112 346,-112 346,4 -4,4\"/>\n<!-- varA1 -->\n<g id=\"node1\" class=\"node\">\n<title>varA1</title>\n<polygon fill=\"none\" stroke=\"#000000\" points=\"54,-108 0,-108 0,-72 54,-72 54,-108\"/>\n<text text-anchor=\"middle\" x=\"27\" y=\"-86.3\" font-family=\"Times,serif\" font-size=\"14.00\" fill=\"#000000\">A1</text>\n</g>\n<!-- varX2 -->\n<g id=\"node6\" class=\"node\">\n<title>varX2</title>\n<ellipse fill=\"none\" stroke=\"#000000\" cx=\"99\" cy=\"-18\" rx=\"27\" ry=\"18\"/>\n<text text-anchor=\"middle\" x=\"99\" y=\"-14.3\" font-family=\"Times,serif\" font-size=\"14.00\" fill=\"#000000\">X2</text>\n</g>\n<!-- varA1&#45;&gt;varX2 -->\n<g id=\"edge2\" class=\"edge\">\n<title>varA1&#45;&gt;varX2</title>\n<path fill=\"none\" stroke=\"#000000\" d=\"M45.1686,-71.8314C54.7294,-62.2706 66.5349,-50.4651 76.6519,-40.3481\"/>\n<polygon fill=\"#000000\" stroke=\"#000000\" points=\"79.3979,-42.5519 83.9941,-33.0059 74.4481,-37.6021 79.3979,-42.5519\"/>\n</g>\n<!-- varA2 -->\n<g id=\"node2\" class=\"node\">\n<title>varA2</title>\n<polygon fill=\"none\" stroke=\"#000000\" points=\"126,-108 72,-108 72,-72 126,-72 126,-108\"/>\n<text text-anchor=\"middle\" x=\"99\" y=\"-86.3\" font-family=\"Times,serif\" font-size=\"14.00\" fill=\"#000000\">A2</text>\n</g>\n<!-- varX3 -->\n<g id=\"node7\" class=\"node\">\n<title>varX3</title>\n<ellipse fill=\"none\" stroke=\"#000000\" cx=\"171\" cy=\"-18\" rx=\"27\" ry=\"18\"/>\n<text text-anchor=\"middle\" x=\"171\" y=\"-14.3\" font-family=\"Times,serif\" font-size=\"14.00\" fill=\"#000000\">X3</text>\n</g>\n<!-- varA2&#45;&gt;varX3 -->\n<g id=\"edge4\" class=\"edge\">\n<title>varA2&#45;&gt;varX3</title>\n<path fill=\"none\" stroke=\"#000000\" d=\"M117.1686,-71.8314C126.7294,-62.2706 138.5349,-50.4651 148.6519,-40.3481\"/>\n<polygon fill=\"#000000\" stroke=\"#000000\" points=\"151.3979,-42.5519 155.9941,-33.0059 146.4481,-37.6021 151.3979,-42.5519\"/>\n</g>\n<!-- varA3 -->\n<g id=\"node3\" class=\"node\">\n<title>varA3</title>\n<polygon fill=\"none\" stroke=\"#000000\" points=\"198,-108 144,-108 144,-72 198,-72 198,-108\"/>\n<text text-anchor=\"middle\" x=\"171\" y=\"-86.3\" font-family=\"Times,serif\" font-size=\"14.00\" fill=\"#000000\">A3</text>\n</g>\n<!-- varX4 -->\n<g id=\"node8\" class=\"node\">\n<title>varX4</title>\n<ellipse fill=\"none\" stroke=\"#000000\" cx=\"243\" cy=\"-18\" rx=\"27\" ry=\"18\"/>\n<text text-anchor=\"middle\" x=\"243\" y=\"-14.3\" font-family=\"Times,serif\" font-size=\"14.00\" fill=\"#000000\">X4</text>\n</g>\n<!-- varA3&#45;&gt;varX4 -->\n<g id=\"edge6\" class=\"edge\">\n<title>varA3&#45;&gt;varX4</title>\n<path fill=\"none\" stroke=\"#000000\" d=\"M189.1686,-71.8314C198.7294,-62.2706 210.5349,-50.4651 220.6519,-40.3481\"/>\n<polygon fill=\"#000000\" stroke=\"#000000\" points=\"223.3979,-42.5519 227.9941,-33.0059 218.4481,-37.6021 223.3979,-42.5519\"/>\n</g>\n<!-- varA4 -->\n<g id=\"node4\" class=\"node\">\n<title>varA4</title>\n<polygon fill=\"none\" stroke=\"#000000\" points=\"270,-108 216,-108 216,-72 270,-72 270,-108\"/>\n<text text-anchor=\"middle\" x=\"243\" y=\"-86.3\" font-family=\"Times,serif\" font-size=\"14.00\" fill=\"#000000\">A4</text>\n</g>\n<!-- varX5 -->\n<g id=\"node9\" class=\"node\">\n<title>varX5</title>\n<ellipse fill=\"none\" stroke=\"#000000\" cx=\"315\" cy=\"-18\" rx=\"27\" ry=\"18\"/>\n<text text-anchor=\"middle\" x=\"315\" y=\"-14.3\" font-family=\"Times,serif\" font-size=\"14.00\" fill=\"#000000\">X5</text>\n</g>\n<!-- varA4&#45;&gt;varX5 -->\n<g id=\"edge8\" class=\"edge\">\n<title>varA4&#45;&gt;varX5</title>\n<path fill=\"none\" stroke=\"#000000\" d=\"M261.1686,-71.8314C270.7294,-62.2706 282.5349,-50.4651 292.6519,-40.3481\"/>\n<polygon fill=\"#000000\" stroke=\"#000000\" points=\"295.3979,-42.5519 299.9941,-33.0059 290.4481,-37.6021 295.3979,-42.5519\"/>\n</g>\n<!-- varX1 -->\n<g id=\"node5\" class=\"node\">\n<title>varX1</title>\n<ellipse fill=\"none\" stroke=\"#000000\" cx=\"27\" cy=\"-18\" rx=\"27\" ry=\"18\"/>\n<text text-anchor=\"middle\" x=\"27\" y=\"-14.3\" font-family=\"Times,serif\" font-size=\"14.00\" fill=\"#000000\">X1</text>\n</g>\n<!-- varX1&#45;&gt;varX2 -->\n<g id=\"edge1\" class=\"edge\">\n<title>varX1&#45;&gt;varX2</title>\n<path fill=\"none\" stroke=\"#000000\" d=\"M54.2201,-18C56.6393,-18 59.1149,-18 61.5994,-18\"/>\n<polygon fill=\"#000000\" stroke=\"#000000\" points=\"61.7414,-21.5001 71.7414,-18 61.7414,-14.5001 61.7414,-21.5001\"/>\n</g>\n<!-- varX2&#45;&gt;varX3 -->\n<g id=\"edge3\" class=\"edge\">\n<title>varX2&#45;&gt;varX3</title>\n<path fill=\"none\" stroke=\"#000000\" d=\"M126.2201,-18C128.6393,-18 131.1149,-18 133.5994,-18\"/>\n<polygon fill=\"#000000\" stroke=\"#000000\" points=\"133.7414,-21.5001 143.7414,-18 133.7414,-14.5001 133.7414,-21.5001\"/>\n</g>\n<!-- varX3&#45;&gt;varX4 -->\n<g id=\"edge5\" class=\"edge\">\n<title>varX3&#45;&gt;varX4</title>\n<path fill=\"none\" stroke=\"#000000\" d=\"M198.2201,-18C200.6393,-18 203.1149,-18 205.5994,-18\"/>\n<polygon fill=\"#000000\" stroke=\"#000000\" points=\"205.7414,-21.5001 215.7414,-18 205.7414,-14.5001 205.7414,-21.5001\"/>\n</g>\n<!-- varX4&#45;&gt;varX5 -->\n<g id=\"edge7\" class=\"edge\">\n<title>varX4&#45;&gt;varX5</title>\n<path fill=\"none\" stroke=\"#000000\" d=\"M270.2201,-18C272.6393,-18 275.1149,-18 277.5994,-18\"/>\n<polygon fill=\"#000000\" stroke=\"#000000\" points=\"277.7414,-21.5001 287.7414,-18 277.7414,-14.5001 277.7414,-21.5001\"/>\n</g>\n</g>\n</svg>\n"
          },
          "metadata": {},
          "execution_count": 29
        }
      ]
    },
    {
      "cell_type": "code",
      "source": [
        "def reward_function(state:str, action:str, next_state:str):\n",
        "    \"\"\"\n",
        "    Reward that returns 10 upon entering the living room.\n",
        "    \"\"\"\n",
        "    return 10.0 if next_state == \"Living Room\" else 0.0\n",
        "\n",
        "def perform_rollout(markovChain, x1, actions):\n",
        "    \"\"\"Roll out states given actions as a dictionary\"\"\"\n",
        "    dict = actions.copy()\n",
        "    dict[X[1]] = x1\n",
        "    given = VARIABLES.assignment(dict)\n",
        "    return markovChain.sample(given)\n",
        "  \n",
        "def reward(R, rollout, A, X, k):\n",
        "    \"\"\"Return state, action, next_state triple for given rollout at time k.\"\"\"\n",
        "    state = rollout[X[k][0]]\n",
        "    action = rollout[A[k][0]]\n",
        "    next_state = rollout[X[k+1][0]]\n",
        "    return R[state, action, next_state]\n",
        "\n",
        "def rollout_reward(R, rollout, A, X, horizon=N, gamma=1.0):\n",
        "    \"\"\"Calculate reward for a given rollout\"\"\"\n",
        "    discounted_rewards = [gamma**(k-1) * reward(R, rollout, A, X, k) for k in range(1,horizon)]\n",
        "    return sum(discounted_rewards)\n",
        "\n",
        "def get_transition_prob(action_spec):\n",
        "  conditional = gtsam.DiscreteConditional((2,5), [(0,5), (1,4)], action_spec)\n",
        "  T = np.empty((5, 4, 5), float)\n",
        "  for assignment, value in conditional.enumerate():\n",
        "      x, a, y = assignment[0], assignment[1], assignment[2]\n",
        "      T[x, a, y] = value\n",
        "  return T"
      ],
      "metadata": {
        "id": "gdBXH9gVZTjg"
      },
      "execution_count": null,
      "outputs": []
    },
    {
      "cell_type": "code",
      "source": [
        "#TODO 15\n",
        "def get_expected_reward(action_spec):\n",
        "  \"\"\"\n",
        "    Implement the function to calculate the reward given a sequence of actions\n",
        "    Parameters:\n",
        "            action_spec (str): A table that contains all possible values of P(X2|X1, A1)\n",
        "\n",
        "    HINT: What does the variable assignment store? How should the reward function be used?\n",
        "  \"\"\"\n",
        "  conditional = gtsam.DiscreteConditional((2,5), [(0,5), (1,4)], action_spec)\n",
        "  R = np.empty((5, 4, 5), float)\n",
        "  for assignment, value in conditional.enumerate():\n",
        "      ###############################################################################\n",
        "      #                             START OF YOUR CODE                              #\n",
        "      ############################################################################### \n",
        "      x, a, y = assignment[0], assignment[1], assignment[2]\n",
        "      R[x, a, y] = 10.0 if y == ROOMS.index(\"Living Room\") else 0.0\n",
        "      ###############################################################################\n",
        "      #                              END OF YOUR CODE                               #\n",
        "      ###############################################################################\n",
        "  return R\n",
        "\n",
        "#TODO 16\n",
        "def control_tape_reward(markovChain, x1, actions, R, A, X):\n",
        "    \"\"\"\n",
        "      Implement the function to calculate the reward given a sequence of actions\n",
        "      Parameters:\n",
        "          x1 (str): the initial (room) state \n",
        "          actions (dict): the dictionary that represents a sequence of actions taken by the agent\n",
        "          R: array of expected reward given the current state, \n",
        "    \"\"\"\n",
        "    ###############################################################################\n",
        "    #                             START OF YOUR CODE                              #\n",
        "    ############################################################################### \n",
        "    rollout = perform_rollout(markovChain, x1, actions)\n",
        "    reward = rollout_reward(R, rollout, A, X)\n",
        "    ###############################################################################\n",
        "    #                              END OF YOUR CODE                               #\n",
        "    ###############################################################################\n",
        "    return reward"
      ],
      "metadata": {
        "id": "JXYpSN7EktP4"
      },
      "execution_count": null,
      "outputs": []
    },
    {
      "cell_type": "code",
      "source": [
        "R = get_expected_reward(action_spec)\n",
        "actions_1 = {A[1]:\"U\", A[2]:\"U\", A[3]:\"R\", A[4]:\"U\"}\n",
        "actions_2 = {A[1]:\"R\", A[2]:\"U\", A[3]:\"U\", A[4]:\"U\"}\n",
        "\n",
        "print([control_tape_reward(markovChain, \"Office\", actions_1,R,A,X) for i in range(5)])\n",
        "print(sum([control_tape_reward(markovChain, \"Office\", actions_1,R,A,X) for i in range(5)]))\n",
        "\n",
        "print([control_tape_reward(markovChain, \"Office\", actions_2,R,A,X) for i in range(5)])\n",
        "print(sum([control_tape_reward(markovChain, \"Office\", actions_2,R,A,X) for i in range(5)]))"
      ],
      "metadata": {
        "id": "3zVnNcjNxrGP",
        "colab": {
          "base_uri": "https://localhost:8080/"
        },
        "outputId": "015caad5-9a5c-45e0-a6f0-fe1cea5a9102"
      },
      "execution_count": null,
      "outputs": [
        {
          "output_type": "stream",
          "name": "stdout",
          "text": [
            "[10.0, 0.0, 0.0, 10.0, 0.0]\n",
            "50.0\n",
            "[20.0, 30.0, 30.0, 30.0, 0.0]\n",
            "130.0\n"
          ]
        }
      ]
    },
    {
      "cell_type": "markdown",
      "source": [
        "We looked into to control tapes, but the fixed control tape can never garuantee optimality because it can't be updated on the go. Now let us look into policies."
      ],
      "metadata": {
        "id": "PVbOreMM1s7m"
      }
    },
    {
      "cell_type": "code",
      "source": [
        "#TODO 17\n",
        "def get_custom_policy(N):\n",
        "  \"\"\"\n",
        "      Implement the function to create a customized policy\n",
        "\n",
        "      Parameters:\n",
        "          N (int): number of actions within the policy\n",
        "\n",
        "      Returns:\n",
        "          policy (list): a list of actions (refer to the implementation of the get_test_policy function below)\n",
        "  \"\"\"\n",
        "  policy = None\n",
        "  ###############################################################################\n",
        "  #                             START OF YOUR CODE                              #\n",
        "  ###############################################################################\n",
        "  policy = [ACTIONS.index(\"U\")] * N\n",
        "  ###############################################################################\n",
        "  #                              END OF YOUR CODE                               #\n",
        "  ###############################################################################\n",
        "  return policy\n",
        "\n",
        "def get_test_policy(N):\n",
        "  RIGHT_INDEX = ACTIONS.index(\"R\")\n",
        "  LEFT_INDEX = ACTIONS.index(\"L\")\n",
        "  UP_INDEX = ACTIONS.index(\"U\")\n",
        "  DOWN_INDEX = ACTIONS.index(\"D\")\n",
        "\n",
        "  reasonable_policy = [UP_INDEX, LEFT_INDEX, RIGHT_INDEX, UP_INDEX, LEFT_INDEX]\n",
        "  return reasonable_policy\n",
        "\n",
        "def Q_value(R, T, value_function, x, a, gamma=0.9):\n",
        "    \"\"\"Calculate Q(x,a) from given value function\"\"\"\n",
        "    return T[x,a] @ (R[x,a] + gamma * value_function)\n",
        "    \n",
        "def calculate_value_system(pi, R, T, gamma=0.9):\n",
        "    \"\"\"Calculate A, b matrix of linear system for value computation.\"\"\"\n",
        "    b = np.empty((5,), float)\n",
        "    AA = np.empty((5,5), float)\n",
        "    for x, room in enumerate(ROOMS):\n",
        "        a = pi[x] # action under policy\n",
        "        b[x] = T[x,a] @ R[x,a] # expected reward under policy pi\n",
        "        AA[x] = -gamma * T[x,a]\n",
        "        AA[x,x] += 1\n",
        "    return AA,b\n",
        "    \n",
        "def calculate_value_function(pi, R,T, gamma=0.9):\n",
        "    \"\"\"Calculate value function for given policy\"\"\"\n",
        "    AA, b = calculate_value_system(pi, R,T, gamma)\n",
        "    return np.linalg.solve(AA,b)"
      ],
      "metadata": {
        "id": "UQ2HuBtA0AGT"
      },
      "execution_count": null,
      "outputs": []
    },
    {
      "cell_type": "code",
      "source": [
        "test_policy = get_custom_policy(5) #replace with your policy using get_custom_policy()\n",
        "T = get_transition_prob(action_spec)\n",
        "value_for_pi = calculate_value_function(test_policy, R,T,)\n",
        "print(\"V(always_right):\")\n",
        "for i,room in enumerate(ROOMS):\n",
        "    print(f\"  {room:12}: {value_for_pi[i]}\")"
      ],
      "metadata": {
        "id": "9zeRo-kP3Nch",
        "colab": {
          "base_uri": "https://localhost:8080/"
        },
        "outputId": "fdbceddb-063f-4fbf-e68a-a3b877bc356f"
      },
      "execution_count": null,
      "outputs": [
        {
          "output_type": "stream",
          "name": "stdout",
          "text": [
            "V(always_right):\n",
            "  Living Room : 100.00000000000001\n",
            "  Kitchen     : -0.0\n",
            "  Office      : 0.0\n",
            "  Hallway     : 97.56097560975613\n",
            "  Dining Room : 0.0\n"
          ]
        }
      ]
    },
    {
      "cell_type": "markdown",
      "source": [
        "Now you should try to find the OPTIMAL Policy"
      ],
      "metadata": {
        "id": "hOAgInqb4McL"
      }
    },
    {
      "cell_type": "code",
      "source": [
        "def update_policy(R,T,value_function):\n",
        "    \"\"\"Update policy given a value function\"\"\"\n",
        "    new_policy = [None for _ in range(5)]\n",
        "    for x, room in enumerate(ROOMS):\n",
        "        Q_values = [Q_value(R, T,value_function, x, a) for a in range(4)]\n",
        "        new_policy[x] = np.argmax(Q_values)\n",
        "    return new_policy\n",
        "\n",
        "#TODO 18\n",
        "def policy_iteration(R,T,pi=None, max_iterations=100):\n",
        "    \"\"\"\n",
        "        Create the function to implement policy iteration\n",
        "\n",
        "        Parameters:\n",
        "            R: the reward function\n",
        "            T: the transition probabilities\n",
        "            pi: the policy to start with\n",
        "            max_iterations: number of iterations for policy iteration\n",
        "\n",
        "        Returns:\n",
        "            optimal_policy: the optimal policy after running the policy iteration\n",
        "            optimal_value_function: the corresponding value function of the optimal policy\n",
        "\n",
        "        (Refer to the chapter 3.5 of the robotics book)\n",
        "    \"\"\"\n",
        "    for _ in range(max_iterations):\n",
        "      ###############################################################################\n",
        "      #                             START OF YOUR CODE                              #\n",
        "      ############################################################################### \n",
        "      value_for_pi = calculate_value_function(pi, R, T) if pi is not None else np.zeros((5,))\n",
        "      new_policy = update_policy(R, T, value_for_pi)\n",
        "      if new_policy == pi:\n",
        "        return pi, value_for_pi\n",
        "      pi = new_policy\n",
        "      ###############################################################################\n",
        "      #                              END OF YOUR CODE                               #\n",
        "      ###############################################################################\n",
        "    raise RuntimeError(\"No stable policy found after {max_iterations} iterations\")   \n"
      ],
      "metadata": {
        "id": "hC0rhkPN3xZw"
      },
      "execution_count": null,
      "outputs": []
    },
    {
      "cell_type": "markdown",
      "source": [
        "Run the cell below to find out the optimal actions and the resultant optimal values."
      ],
      "metadata": {
        "id": "wTQ_Xb-E3zyv"
      }
    },
    {
      "cell_type": "code",
      "source": [
        "policy = get_test_policy(5) #replace with your policy using get_custom_policy()\n",
        "optimal_policy, optimal_value_function = policy_iteration(R,T,policy)\n",
        "print([ACTIONS[a] for a in optimal_policy])\n",
        "print(\"The optimal values at each state when the optimal policy followed:\")\n",
        "for i,room in enumerate(ROOMS):\n",
        "    print(f\"  {room:12}: {optimal_value_function[i]}\")"
      ],
      "metadata": {
        "id": "uM42xrKc3x4D",
        "colab": {
          "base_uri": "https://localhost:8080/"
        },
        "outputId": "d50f935d-d9ab-496f-edb6-1ba56cd64eac"
      },
      "execution_count": null,
      "outputs": [
        {
          "output_type": "stream",
          "name": "stdout",
          "text": [
            "['L', 'L', 'R', 'U', 'U']\n",
            "The optimal values at each state when the optimal policy followed:\n",
            "  Living Room : 100.00000000000001\n",
            "  Kitchen     : 97.56097560975611\n",
            "  Office      : 85.66329565734684\n",
            "  Hallway     : 97.5609756097561\n",
            "  Dining Room : 85.66329565734685\n"
          ]
        }
      ]
    },
    {
      "cell_type": "markdown",
      "source": [
        "\n",
        "\n",
        "---\n",
        "\n"
      ],
      "metadata": {
        "id": "ELJuyGJa3yq5"
      }
    },
    {
      "cell_type": "markdown",
      "source": [
        "# YOU ARE DONE! 🥳🥳🥳🥳\n",
        "\n",
        "Download notebook as **submission.py** and submit on Gradescope.\n"
      ],
      "metadata": {
        "id": "UB-d34xk7qjX"
      }
    },
    {
      "cell_type": "markdown",
      "source": [
        "\n",
        "\n",
        "\n",
        "---\n",
        "\n"
      ],
      "metadata": {
        "id": "DOCBqLavxxJ_"
      }
    },
    {
      "cell_type": "code",
      "source": [],
      "metadata": {
        "id": "5NE_189v1-qK"
      },
      "execution_count": null,
      "outputs": []
    }
  ]
}